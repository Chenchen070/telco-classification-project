{
 "cells": [
  {
   "cell_type": "markdown",
   "id": "0974e3c1",
   "metadata": {},
   "source": [
    "# Telco-churn-classification-project"
   ]
  },
  {
   "cell_type": "markdown",
   "id": "86380c82",
   "metadata": {},
   "source": [
    "## Project Goals\n",
    "\n",
    "* The goal of this project is to identify the attributes of customers churn rate in Telco company in order to make recommendations of how to reduce churan rate for Telco company.\n"
   ]
  },
  {
   "cell_type": "markdown",
   "id": "d1b3bee2",
   "metadata": {},
   "source": [
    "## Initial Questions\n",
    "\n",
    "1. Is the churn rate effected by monthly charges?\n",
    "\n",
    "2. Is the churn rate effected by providers?\n",
    "\n",
    "3. Does churn rate related to tenure?\n",
    "\n",
    "4. Does the churn rate related to the additional services?\n",
    "\n",
    "5. Does the churn rate effeted by partner and dependent?\n",
    "\n",
    "6. Does the churn rate effeted by contract type?"
   ]
  },
  {
   "cell_type": "markdown",
   "id": "cc62a51a",
   "metadata": {},
   "source": [
    "## Data Dictionary"
   ]
  },
  {
   "cell_type": "markdown",
   "id": "b856beb6",
   "metadata": {},
   "source": [
    "Variables are used in this analyst: \n",
    "\n",
    "* churn\n",
    "* monthly charges\n",
    "* tenure\n",
    "* contract types: month-to-month, one-year, two-year\n",
    "* additional services: online security, online backup, tech support, streaming tv, streaming movies\n",
    "* contract type: month-to-month, one-year, two-year\n",
    "* partners and dependents number"
   ]
  },
  {
   "cell_type": "markdown",
   "id": "9b8165fb",
   "metadata": {},
   "source": [
    "## Wrangle Telco Data\n",
    "#### To acquire the telco churn data, I used the telco_churn in our mySQL server Then selected all columns from the customers table and left join internet_service_types, payment_types and contract_types tables.\n",
    "\n",
    "* select * from customers left join internet_service_types using(internet_service_type_id) left join payment_types using (payment_type_id) left join contract_types using (contract_type_id)"
   ]
  },
  {
   "cell_type": "code",
   "execution_count": 56,
   "id": "4d6323a0",
   "metadata": {},
   "outputs": [],
   "source": [
    "# Acquire telco_churn data from MySql database \n",
    "import acquire_telco\n",
    "\n",
    "# Make the commection to the database and run the query. Then we will get the data we need.\n",
    "df = acquire_telco.new_telco_data()"
   ]
  },
  {
   "cell_type": "code",
   "execution_count": 43,
   "id": "bd5b9cda",
   "metadata": {},
   "outputs": [],
   "source": [
    "import pandas as pd\n",
    "import env\n",
    "import os\n",
    "import acquire_telco\n",
    "import prepare_telco\n",
    "import numpy as np\n",
    "import seaborn as sns\n",
    "import matplotlib.pyplot as plt\n",
    "\n",
    "import warnings\n",
    "warnings.filterwarnings(\"ignore\")"
   ]
  },
  {
   "cell_type": "code",
   "execution_count": 57,
   "id": "835934be",
   "metadata": {},
   "outputs": [
    {
     "data": {
      "text/plain": [
       "(7043, 24)"
      ]
     },
     "execution_count": 57,
     "metadata": {},
     "output_type": "execute_result"
    }
   ],
   "source": [
    "df = acquire_telco.new_telco_data()\n",
    "df.shape"
   ]
  },
  {
   "cell_type": "markdown",
   "id": "cd9ac97e",
   "metadata": {},
   "source": [
    "#### To clean the data, I did the following:\n",
    "    \n",
    "1. Convert data type: convert total_charges from object to float.\n",
    "2. Drop rows: There are 11 missing data for total_charges, since it's a very small portion, so I just dropped those 11 rows.\n",
    "3. Drop coolumns: Since I already added internet_service_types, payment_types and contract_types into my data, so I dropped payment_type_id, internet_service_type_id znd contract_type_id columns.\n",
    "4. Encode binary categorical variables into numeric values: gender, partner, dependents, phone_service, paperless_billing, churn, online_security, online_backup.\n",
    "5. Get dummies for non-binary categorical variables: multiple_lines, online_security, online_backup, device_protection, tech_support, streaming_tv, streaming_movies, contract_type, internet_service_type, payment_type."
   ]
  },
  {
   "cell_type": "code",
   "execution_count": 4,
   "id": "e7d28baa",
   "metadata": {},
   "outputs": [
    {
     "name": "stdout",
     "output_type": "stream",
     "text": [
      "(4500, 55)\n",
      "(1125, 55)\n",
      "(1407, 55)\n"
     ]
    }
   ],
   "source": [
    "import prepare_telco\n",
    "\n",
    "train, validate, test = prepare_telco.prep_telco_data(df)\n",
    "\n",
    "print(train.shape)\n",
    "print(validate.shape)\n",
    "print(test.shape)"
   ]
  },
  {
   "cell_type": "markdown",
   "id": "43164efe",
   "metadata": {},
   "source": [
    "* Our data is now split into 3 samples so that we can use the train sample to explore, fit to models and evaluate without looking at new data.\n",
    "* The validate is used to verify that our models built are not overfit to the train dataset.\n",
    "* The test set is used to give an estimate of how this model will perform on data is has never seen in the future."
   ]
  },
  {
   "cell_type": "markdown",
   "id": "788bf82e",
   "metadata": {},
   "source": [
    "# Exploration on train set"
   ]
  },
  {
   "cell_type": "code",
   "execution_count": 5,
   "id": "6e4629c7",
   "metadata": {},
   "outputs": [
    {
     "data": {
      "text/plain": [
       "<AxesSubplot:xlabel='churn', ylabel='Count'>"
      ]
     },
     "execution_count": 5,
     "metadata": {},
     "output_type": "execute_result"
    },
    {
     "data": {
      "image/png": "[encoded data removed]",
      "text/plain": [
       "<Figure size 432x288 with 1 Axes>"
      ]
     },
     "metadata": {
      "needs_background": "light"
     },
     "output_type": "display_data"
    }
   ],
   "source": [
    "# Overall churn rate on train set\n",
    "sns.histplot(train.churn)"
   ]
  },
  {
   "cell_type": "code",
   "execution_count": 4,
   "id": "38f1a18f",
   "metadata": {},
   "outputs": [
    {
     "data": {
      "text/plain": [
       "No     3304\n",
       "Yes    1196\n",
       "Name: churn, dtype: int64"
      ]
     },
     "execution_count": 4,
     "metadata": {},
     "output_type": "execute_result"
    }
   ],
   "source": [
    "train.churn.value_counts()"
   ]
  },
  {
   "cell_type": "code",
   "execution_count": 7,
   "id": "87b4803d",
   "metadata": {},
   "outputs": [
    {
     "data": {
      "text/plain": [
       "0.2657777777777778"
      ]
     },
     "execution_count": 7,
     "metadata": {},
     "output_type": "execute_result"
    }
   ],
   "source": [
    "churn_rate = 1196/(3304+1196)\n",
    "churn_rate"
   ]
  },
  {
   "cell_type": "markdown",
   "id": "e828f653",
   "metadata": {},
   "source": [
    "## 1. Is the churn rate effected by monthly charges?"
   ]
  },
  {
   "cell_type": "code",
   "execution_count": 7,
   "id": "d80cc5de",
   "metadata": {},
   "outputs": [],
   "source": [
    "import numpy as np\n",
    "import seaborn as sns\n",
    "import matplotlib.pyplot as plt"
   ]
  },
  {
   "cell_type": "code",
   "execution_count": 16,
   "id": "da71a040",
   "metadata": {},
   "outputs": [
    {
     "data": {
      "text/plain": [
       "churn\n",
       "No     61.131613\n",
       "Yes    74.652048\n",
       "Name: monthly_charges, dtype: float64"
      ]
     },
     "execution_count": 16,
     "metadata": {},
     "output_type": "execute_result"
    }
   ],
   "source": [
    "# mean of monthly charges for customers who churn vs who don't churn?\n",
    "\n",
    "train.groupby('churn').monthly_charges.mean()"
   ]
  },
  {
   "cell_type": "code",
   "execution_count": 15,
   "id": "d97af639",
   "metadata": {},
   "outputs": [
    {
     "data": {
      "text/plain": [
       "<AxesSubplot:xlabel='churn', ylabel='monthly_charges'>"
      ]
     },
     "execution_count": 15,
     "metadata": {},
     "output_type": "execute_result"
    },
    {
     "data": {
      "image/png": "[encoded data removed]",
      "text/plain": [
       "<Figure size 432x288 with 1 Axes>"
      ]
     },
     "metadata": {
      "needs_background": "light"
     },
     "output_type": "display_data"
    }
   ],
   "source": [
    "sns.boxplot(data = train, y = 'monthly_charges', x = 'churn')"
   ]
  },
  {
   "cell_type": "code",
   "execution_count": 115,
   "id": "bdefa9fb",
   "metadata": {},
   "outputs": [
    {
     "data": {
      "text/plain": [
       "Text(0.5, 1.0, 'Distribution of monthly charges by churn')"
      ]
     },
     "execution_count": 115,
     "metadata": {},
     "output_type": "execute_result"
    },
    {
     "data": {
      "image/png": "[encoded data removed]",
      "text/plain": [
       "<Figure size 432x288 with 1 Axes>"
      ]
     },
     "metadata": {
      "needs_background": "light"
     },
     "output_type": "display_data"
    }
   ],
   "source": [
    "ax = sns.kdeplot(train.monthly_charges[(train[\"churn\"] == 'No') ],\n",
    "                color=\"green\", shade = True)\n",
    "ax = sns.kdeplot(train.monthly_charges[(train[\"churn\"] == 'Yes') ],\n",
    "                ax =ax, color=\"grey\", shade= True)\n",
    "ax.legend([\"Not Churn\",\"Churn\"],loc='upper right')\n",
    "ax.set_ylabel('Density')\n",
    "ax.set_xlabel('Monthly Charges')\n",
    "ax.set_title('Distribution of monthly charges by churn')"
   ]
  },
  {
   "cell_type": "markdown",
   "id": "6af5f9d3",
   "metadata": {},
   "source": [
    "* correlation: 2 continuous variables, normally distributed, testing for LINEAR correlation only (H_0: Not linearly dependent)\n",
    "\n",
    "* independent t-test: 1 continuous, somewhat normally distributed variable, one boolean variable, equal variance, independent (H_0: population mean of each group is equal)\n",
    "\n",
    "* chi-square test: 2 discrete variables. (H_0: the 2 variables are independent of each other)."
   ]
  },
  {
   "cell_type": "markdown",
   "id": "b6974873",
   "metadata": {},
   "source": [
    "### statistical test ---- t-test (2 sample 1-tailed test)\n",
    "\n",
    "I believe customers who churn are charged more (monthly average) than customers who don't churn.\n",
    "\n",
    "Is the mean of monthly charges of customers who churn significantly higher than the mean of those who don't churn?"
   ]
  },
  {
   "cell_type": "code",
   "execution_count": 66,
   "id": "8d544ebf",
   "metadata": {},
   "outputs": [
    {
     "data": {
      "text/plain": [
       "<AxesSubplot:>"
      ]
     },
     "execution_count": 66,
     "metadata": {},
     "output_type": "execute_result"
    },
    {
     "data": {
      "image/png": "[encoded data removed]",
      "text/plain": [
       "<Figure size 432x288 with 1 Axes>"
      ]
     },
     "metadata": {
      "needs_background": "light"
     },
     "output_type": "display_data"
    }
   ],
   "source": [
    "# histogram of churned customers\n",
    "churn_sample = train[train.churn == 'Yes'].monthly_charges\n",
    "\n",
    "churn_sample.hist()"
   ]
  },
  {
   "cell_type": "code",
   "execution_count": 67,
   "id": "f050d1d9",
   "metadata": {},
   "outputs": [
    {
     "data": {
      "text/plain": [
       "<AxesSubplot:>"
      ]
     },
     "execution_count": 67,
     "metadata": {},
     "output_type": "execute_result"
    },
    {
     "data": {
      "image/png": "[encoded data removed]",
      "text/plain": [
       "<Figure size 432x288 with 1 Axes>"
      ]
     },
     "metadata": {
      "needs_background": "light"
     },
     "output_type": "display_data"
    }
   ],
   "source": [
    "no_churn_sample = train[train.churn == 'No'].monthly_charges\n",
    "\n",
    "no_churn_sample.hist()"
   ]
  },
  {
   "cell_type": "markdown",
   "id": "0cf1b53e",
   "metadata": {},
   "source": [
    "* Set Hypothesis\n",
    "\n",
    "H0: Mean of monthly charges of churned customers <= Mean of monthly charges of customers who haven't churned.\n",
    "\n",
    "Ha: Mean of monthly charges of churned customers > Mean of monthly charges of customers who haven't churned."
   ]
  },
  {
   "cell_type": "markdown",
   "id": "ca9f4104",
   "metadata": {},
   "source": [
    "* set alpha"
   ]
  },
  {
   "cell_type": "code",
   "execution_count": 68,
   "id": "2c426ac5",
   "metadata": {},
   "outputs": [],
   "source": [
    "alpha = 0.05"
   ]
  },
  {
   "cell_type": "markdown",
   "id": "9fc7c99b",
   "metadata": {},
   "source": [
    "* Verify Assumptions\n",
    "\n",
    "1. Independent Samples. YES! no observations in the churn sample exist in the no-churn sample.\n",
    "\n",
    "2. Normal Distribution, or at least 30 observations and \"kinda\" normal. The more observations you have, the less \"normal\" it needs to appear. (CLT). YES! Plenty of observations\n",
    "\n",
    "3. Equal Variances (the scipy methods we will use has an argument to handle when variances aren't equal)."
   ]
  },
  {
   "cell_type": "code",
   "execution_count": 28,
   "id": "1a504d21",
   "metadata": {},
   "outputs": [
    {
     "data": {
      "text/plain": [
       "(610.5202363859298, 973.6230640332021)"
      ]
     },
     "execution_count": 28,
     "metadata": {},
     "output_type": "execute_result"
    }
   ],
   "source": [
    "churn_sample.var(), no_churn_sample.var()"
   ]
  },
  {
   "cell_type": "code",
   "execution_count": 69,
   "id": "77e01378",
   "metadata": {},
   "outputs": [
    {
     "data": {
      "text/plain": [
       "(15.067898021010361, 2.7212506175344626e-49)"
      ]
     },
     "execution_count": 69,
     "metadata": {},
     "output_type": "execute_result"
    }
   ],
   "source": [
    "import scipy.stats as stats\n",
    "\n",
    "t, p = stats.ttest_ind(churn_sample,no_churn_sample, equal_var=False)\n",
    "\n",
    "t, p"
   ]
  },
  {
   "cell_type": "code",
   "execution_count": 70,
   "id": "41b64eab",
   "metadata": {},
   "outputs": [
    {
     "data": {
      "text/plain": [
       "(15.067898021010361, 1.3606253087672313e-49, 0.05)"
      ]
     },
     "execution_count": 70,
     "metadata": {},
     "output_type": "execute_result"
    }
   ],
   "source": [
    "t, p/2, alpha"
   ]
  },
  {
   "cell_type": "code",
   "execution_count": 71,
   "id": "fabab434",
   "metadata": {},
   "outputs": [
    {
     "name": "stdout",
     "output_type": "stream",
     "text": [
      "Reject null. The monthly charges for churn customers is higher than non-churn customers.\n"
     ]
    }
   ],
   "source": [
    "if (p/2 < alpha) & (t > 0):\n",
    "    print(\"Reject null. The monthly charges for churn customers is higher than non-churn customers.\")\n",
    "else:\n",
    "    print(\"Fail to reject null. The monthly charges for churn customers is equal or lower than non-churn customers.\")"
   ]
  },
  {
   "cell_type": "markdown",
   "id": "8f1e854b",
   "metadata": {},
   "source": [
    "### ---- Customers who have high monthly charges are more like to churn"
   ]
  },
  {
   "cell_type": "markdown",
   "id": "fd41e158",
   "metadata": {},
   "source": [
    "## 2. Is the churn rate effected by different providers?"
   ]
  },
  {
   "cell_type": "code",
   "execution_count": 96,
   "id": "3f1238ee",
   "metadata": {},
   "outputs": [
    {
     "data": {
      "text/plain": [
       "<AxesSubplot:xlabel='internet_service_type', ylabel='count'>"
      ]
     },
     "execution_count": 96,
     "metadata": {},
     "output_type": "execute_result"
    },
    {
     "data": {
      "image/png": "[encoded data removed]",
      "text/plain": [
       "<Figure size 432x288 with 1 Axes>"
      ]
     },
     "metadata": {
      "needs_background": "light"
     },
     "output_type": "display_data"
    }
   ],
   "source": [
    "sns.countplot(x = 'internet_service_type', hue = 'churn', data = train)"
   ]
  },
  {
   "cell_type": "code",
   "execution_count": 41,
   "id": "52227c37",
   "metadata": {},
   "outputs": [
    {
     "data": {
      "text/html": [
       "<div>\n",
       "<style scoped>\n",
       "    .dataframe tbody tr th:only-of-type {\n",
       "        vertical-align: middle;\n",
       "    }\n",
       "\n",
       "    .dataframe tbody tr th {\n",
       "        vertical-align: top;\n",
       "    }\n",
       "\n",
       "    .dataframe thead th {\n",
       "        text-align: right;\n",
       "    }\n",
       "</style>\n",
       "<table border=\"1\" class=\"dataframe\">\n",
       "  <thead>\n",
       "    <tr style=\"text-align: right;\">\n",
       "      <th>churn</th>\n",
       "      <th>No</th>\n",
       "      <th>Yes</th>\n",
       "      <th>All</th>\n",
       "    </tr>\n",
       "    <tr>\n",
       "      <th>internet_service_type</th>\n",
       "      <th></th>\n",
       "      <th></th>\n",
       "      <th></th>\n",
       "    </tr>\n",
       "  </thead>\n",
       "  <tbody>\n",
       "    <tr>\n",
       "      <th>DSL</th>\n",
       "      <td>1254</td>\n",
       "      <td>286</td>\n",
       "      <td>1540</td>\n",
       "    </tr>\n",
       "    <tr>\n",
       "      <th>Fiber optic</th>\n",
       "      <td>1135</td>\n",
       "      <td>837</td>\n",
       "      <td>1972</td>\n",
       "    </tr>\n",
       "    <tr>\n",
       "      <th>None</th>\n",
       "      <td>915</td>\n",
       "      <td>73</td>\n",
       "      <td>988</td>\n",
       "    </tr>\n",
       "    <tr>\n",
       "      <th>All</th>\n",
       "      <td>3304</td>\n",
       "      <td>1196</td>\n",
       "      <td>4500</td>\n",
       "    </tr>\n",
       "  </tbody>\n",
       "</table>\n",
       "</div>"
      ],
      "text/plain": [
       "churn                    No   Yes   All\n",
       "internet_service_type                  \n",
       "DSL                    1254   286  1540\n",
       "Fiber optic            1135   837  1972\n",
       "None                    915    73   988\n",
       "All                    3304  1196  4500"
      ]
     },
     "execution_count": 41,
     "metadata": {},
     "output_type": "execute_result"
    }
   ],
   "source": [
    "pd.crosstab(train.internet_service_type, train.churn, margins=True)"
   ]
  },
  {
   "cell_type": "code",
   "execution_count": 39,
   "id": "a8b0d817",
   "metadata": {},
   "outputs": [
    {
     "data": {
      "text/html": [
       "<div>\n",
       "<style scoped>\n",
       "    .dataframe tbody tr th:only-of-type {\n",
       "        vertical-align: middle;\n",
       "    }\n",
       "\n",
       "    .dataframe tbody tr th {\n",
       "        vertical-align: top;\n",
       "    }\n",
       "\n",
       "    .dataframe thead th {\n",
       "        text-align: right;\n",
       "    }\n",
       "</style>\n",
       "<table border=\"1\" class=\"dataframe\">\n",
       "  <thead>\n",
       "    <tr style=\"text-align: right;\">\n",
       "      <th>churn</th>\n",
       "      <th>No</th>\n",
       "      <th>Yes</th>\n",
       "    </tr>\n",
       "    <tr>\n",
       "      <th>internet_service_type</th>\n",
       "      <th></th>\n",
       "      <th></th>\n",
       "    </tr>\n",
       "  </thead>\n",
       "  <tbody>\n",
       "    <tr>\n",
       "      <th>DSL</th>\n",
       "      <td>0.814286</td>\n",
       "      <td>0.185714</td>\n",
       "    </tr>\n",
       "    <tr>\n",
       "      <th>Fiber optic</th>\n",
       "      <td>0.575558</td>\n",
       "      <td>0.424442</td>\n",
       "    </tr>\n",
       "    <tr>\n",
       "      <th>None</th>\n",
       "      <td>0.926113</td>\n",
       "      <td>0.073887</td>\n",
       "    </tr>\n",
       "  </tbody>\n",
       "</table>\n",
       "</div>"
      ],
      "text/plain": [
       "churn                        No       Yes\n",
       "internet_service_type                    \n",
       "DSL                    0.814286  0.185714\n",
       "Fiber optic            0.575558  0.424442\n",
       "None                   0.926113  0.073887"
      ]
     },
     "execution_count": 39,
     "metadata": {},
     "output_type": "execute_result"
    }
   ],
   "source": [
    "ctab_service_type = pd.crosstab(train.internet_service_type, train.churn, normalize = 'index')\n",
    "ctab_service_type"
   ]
  },
  {
   "cell_type": "markdown",
   "id": "1f02c507",
   "metadata": {},
   "source": [
    "### Chi2 test -----  service type and churn"
   ]
  },
  {
   "cell_type": "markdown",
   "id": "c12cf380",
   "metadata": {},
   "source": [
    "* H0: There is no association between the providers and churn (independence).\n",
    "* Ha: There is a association between the providers and churn (dependent).\n"
   ]
  },
  {
   "cell_type": "code",
   "execution_count": 44,
   "id": "f9a60032",
   "metadata": {},
   "outputs": [
    {
     "data": {
      "text/html": [
       "<div>\n",
       "<style scoped>\n",
       "    .dataframe tbody tr th:only-of-type {\n",
       "        vertical-align: middle;\n",
       "    }\n",
       "\n",
       "    .dataframe tbody tr th {\n",
       "        vertical-align: top;\n",
       "    }\n",
       "\n",
       "    .dataframe thead th {\n",
       "        text-align: right;\n",
       "    }\n",
       "</style>\n",
       "<table border=\"1\" class=\"dataframe\">\n",
       "  <thead>\n",
       "    <tr style=\"text-align: right;\">\n",
       "      <th>internet_service_type</th>\n",
       "      <th>DSL</th>\n",
       "      <th>Fiber optic</th>\n",
       "      <th>None</th>\n",
       "    </tr>\n",
       "    <tr>\n",
       "      <th>churn</th>\n",
       "      <th></th>\n",
       "      <th></th>\n",
       "      <th></th>\n",
       "    </tr>\n",
       "  </thead>\n",
       "  <tbody>\n",
       "    <tr>\n",
       "      <th>No</th>\n",
       "      <td>1254</td>\n",
       "      <td>1135</td>\n",
       "      <td>915</td>\n",
       "    </tr>\n",
       "    <tr>\n",
       "      <th>Yes</th>\n",
       "      <td>286</td>\n",
       "      <td>837</td>\n",
       "      <td>73</td>\n",
       "    </tr>\n",
       "  </tbody>\n",
       "</table>\n",
       "</div>"
      ],
      "text/plain": [
       "internet_service_type   DSL  Fiber optic  None\n",
       "churn                                         \n",
       "No                     1254         1135   915\n",
       "Yes                     286          837    73"
      ]
     },
     "execution_count": 44,
     "metadata": {},
     "output_type": "execute_result"
    }
   ],
   "source": [
    "# pandas crosstab to make a 'contingency' table\n",
    "observed = pd.crosstab(train.churn, train.internet_service_type)\n",
    "observed"
   ]
  },
  {
   "cell_type": "code",
   "execution_count": 45,
   "id": "25476cbf",
   "metadata": {},
   "outputs": [],
   "source": [
    "# Set our alpha\n",
    "\n",
    "alpha = 0.05"
   ]
  },
  {
   "cell_type": "code",
   "execution_count": 46,
   "id": "585983d8",
   "metadata": {},
   "outputs": [
    {
     "data": {
      "text/plain": [
       "(491.4211645300569,\n",
       " 1.946480140479697e-107,\n",
       " 2,\n",
       " array([[1130.70222222, 1447.88622222,  725.41155556],\n",
       "        [ 409.29777778,  524.11377778,  262.58844444]]))"
      ]
     },
     "execution_count": 46,
     "metadata": {},
     "output_type": "execute_result"
    }
   ],
   "source": [
    "# chi2_contingency returns 4 different values\n",
    "\n",
    "chi2, p, degf, expected = stats.chi2_contingency(observed)\n",
    "chi2, p, degf, expected"
   ]
  },
  {
   "cell_type": "code",
   "execution_count": 47,
   "id": "9b46c5a2",
   "metadata": {},
   "outputs": [
    {
     "name": "stdout",
     "output_type": "stream",
     "text": [
      "Observed\n",
      "\n",
      "[[1254 1135  915]\n",
      " [ 286  837   73]]\n",
      "---\n",
      "Expected\n",
      "\n",
      "[[1130 1447  725]\n",
      " [ 409  524  262]]\n",
      "---\n",
      "\n",
      "chi^2 = 491.4212\n",
      "p     = 0.0000\n"
     ]
    }
   ],
   "source": [
    "print('Observed\\n')\n",
    "print(observed.values)\n",
    "print('---\\nExpected\\n')\n",
    "print(expected.astype(int))\n",
    "print('---\\n')\n",
    "print(f'chi^2 = {chi2:.4f}')\n",
    "print(f'p     = {p:.4f}')"
   ]
  },
  {
   "cell_type": "code",
   "execution_count": 49,
   "id": "8c171d18",
   "metadata": {},
   "outputs": [
    {
     "name": "stdout",
     "output_type": "stream",
     "text": [
      "We reject the null. There is a association between churn rate and providers.\n"
     ]
    }
   ],
   "source": [
    "if p < alpha:\n",
    "    print('We reject the null. There is a association between churn rate and providers.')\n",
    "else:\n",
    "    print(\"we fail to reject the null\")"
   ]
  },
  {
   "cell_type": "markdown",
   "id": "0eb236bf",
   "metadata": {},
   "source": [
    "### --- Customers with Fiber are more like to churn."
   ]
  },
  {
   "cell_type": "markdown",
   "id": "c8159ad4",
   "metadata": {},
   "source": [
    "## 3. Does churn rate related to tenure?"
   ]
  },
  {
   "cell_type": "code",
   "execution_count": 55,
   "id": "0027be90",
   "metadata": {},
   "outputs": [
    {
     "data": {
      "text/plain": [
       "<AxesSubplot:xlabel='churn', ylabel='tenure'>"
      ]
     },
     "execution_count": 55,
     "metadata": {},
     "output_type": "execute_result"
    },
    {
     "data": {
      "image/png": "[encoded data removed]",
      "text/plain": [
       "<Figure size 432x288 with 1 Axes>"
      ]
     },
     "metadata": {
      "needs_background": "light"
     },
     "output_type": "display_data"
    }
   ],
   "source": [
    "sns.boxplot(x = 'churn', y = 'tenure', data = train)"
   ]
  },
  {
   "cell_type": "code",
   "execution_count": 56,
   "id": "f7a7b94e",
   "metadata": {},
   "outputs": [
    {
     "data": {
      "text/plain": [
       "churn\n",
       "No     37.689770\n",
       "Yes    18.061037\n",
       "Name: tenure, dtype: float64"
      ]
     },
     "execution_count": 56,
     "metadata": {},
     "output_type": "execute_result"
    }
   ],
   "source": [
    "train.groupby('churn').tenure.mean()"
   ]
  },
  {
   "cell_type": "markdown",
   "id": "db65b97b",
   "metadata": {},
   "source": [
    "### T-test : 2 sample 1-teailed\n",
    "\n",
    "I believe that the mean of tenure for churn customers is lower than non-churn customers.\n",
    "\n",
    "* H0: Mean of tenure for churn customers >= non-churn customers.\n",
    "\n",
    "* H1: Mean of tenure for churn customers < non-churn customers."
   ]
  },
  {
   "cell_type": "code",
   "execution_count": 83,
   "id": "416595c7",
   "metadata": {},
   "outputs": [
    {
     "data": {
      "text/plain": [
       "<AxesSubplot:>"
      ]
     },
     "execution_count": 83,
     "metadata": {},
     "output_type": "execute_result"
    },
    {
     "data": {
      "image/png": "[encoded data removed]",
      "text/plain": [
       "<Figure size 432x288 with 1 Axes>"
      ]
     },
     "metadata": {
      "needs_background": "light"
     },
     "output_type": "display_data"
    }
   ],
   "source": [
    "# histogram of churned customers\n",
    "churn_sample_tenure = train[train.churn == 'Yes'].tenure\n",
    "\n",
    "churn_sample_tenure.hist()"
   ]
  },
  {
   "cell_type": "code",
   "execution_count": 84,
   "id": "1fcc030f",
   "metadata": {},
   "outputs": [
    {
     "data": {
      "text/plain": [
       "<AxesSubplot:>"
      ]
     },
     "execution_count": 84,
     "metadata": {},
     "output_type": "execute_result"
    },
    {
     "data": {
      "image/png": "[encoded data removed]",
      "text/plain": [
       "<Figure size 432x288 with 1 Axes>"
      ]
     },
     "metadata": {
      "needs_background": "light"
     },
     "output_type": "display_data"
    }
   ],
   "source": [
    "no_churn_sample_tenure = train[train.churn == 'No'].tenure\n",
    "\n",
    "no_churn_sample_tenure.hist()"
   ]
  },
  {
   "cell_type": "code",
   "execution_count": 85,
   "id": "f92374d0",
   "metadata": {},
   "outputs": [],
   "source": [
    "alpha = 0.05"
   ]
  },
  {
   "cell_type": "code",
   "execution_count": 86,
   "id": "c9f19f77",
   "metadata": {},
   "outputs": [
    {
     "data": {
      "text/plain": [
       "(391.3711667902756, 583.9458111490103)"
      ]
     },
     "execution_count": 86,
     "metadata": {},
     "output_type": "execute_result"
    }
   ],
   "source": [
    "churn_sample_tenure.var(), no_churn_sample_tenure.var()"
   ]
  },
  {
   "cell_type": "code",
   "execution_count": 87,
   "id": "617f89eb",
   "metadata": {},
   "outputs": [
    {
     "data": {
      "text/plain": [
       "(-27.649600939497784, 1.6885266797494086e-147)"
      ]
     },
     "execution_count": 87,
     "metadata": {},
     "output_type": "execute_result"
    }
   ],
   "source": [
    "t1, p1 = stats.ttest_ind(churn_sample_tenure,no_churn_sample_tenure, equal_var=False)\n",
    "\n",
    "t1, p1"
   ]
  },
  {
   "cell_type": "code",
   "execution_count": 88,
   "id": "1747790b",
   "metadata": {},
   "outputs": [
    {
     "data": {
      "text/plain": [
       "(-27.649600939497784, 8.442633398747043e-148, 0.05)"
      ]
     },
     "execution_count": 88,
     "metadata": {},
     "output_type": "execute_result"
    }
   ],
   "source": [
    "t1, p1/2, alpha"
   ]
  },
  {
   "cell_type": "code",
   "execution_count": 91,
   "id": "1fff2aee",
   "metadata": {},
   "outputs": [
    {
     "name": "stdout",
     "output_type": "stream",
     "text": [
      "Reject null. Mean of tenure for churn customers is less then non-churn customers.\n"
     ]
    }
   ],
   "source": [
    "if (p1/2 < alpha) & (t1 < 0):\n",
    "    print(\"Reject null. Mean of tenure for churn customers is less then non-churn customers.\")\n",
    "else:\n",
    "    print(\"Fail to reject null. \")"
   ]
  },
  {
   "cell_type": "markdown",
   "id": "b34862dd",
   "metadata": {},
   "source": [
    "### --- The churn customers have less tenure."
   ]
  },
  {
   "cell_type": "markdown",
   "id": "2befba1b",
   "metadata": {},
   "source": [
    "## 4. Does the churn rate related to the additional services?"
   ]
  },
  {
   "cell_type": "code",
   "execution_count": 6,
   "id": "ca042aa0",
   "metadata": {},
   "outputs": [
    {
     "data": {
      "text/plain": [
       "<AxesSubplot:xlabel='additional_services', ylabel='count'>"
      ]
     },
     "execution_count": 6,
     "metadata": {},
     "output_type": "execute_result"
    },
    {
     "data": {
      "image/png": "[encoded data removed]",
      "text/plain": [
       "<Figure size 432x288 with 1 Axes>"
      ]
     },
     "metadata": {
      "needs_background": "light"
     },
     "output_type": "display_data"
    }
   ],
   "source": [
    "sns.countplot(x = 'additional_services', hue = 'churn', data = train)"
   ]
  },
  {
   "cell_type": "markdown",
   "id": "6806f72d",
   "metadata": {},
   "source": [
    "### --- The more additional services use, the churn rate is lower."
   ]
  },
  {
   "cell_type": "markdown",
   "id": "f55d9f30",
   "metadata": {},
   "source": [
    "# 5. Does the churn rate effeted by partner and dependent?"
   ]
  },
  {
   "cell_type": "code",
   "execution_count": 111,
   "id": "78c6c08b",
   "metadata": {},
   "outputs": [
    {
     "data": {
      "text/html": [
       "<div>\n",
       "<style scoped>\n",
       "    .dataframe tbody tr th:only-of-type {\n",
       "        vertical-align: middle;\n",
       "    }\n",
       "\n",
       "    .dataframe tbody tr th {\n",
       "        vertical-align: top;\n",
       "    }\n",
       "\n",
       "    .dataframe thead th {\n",
       "        text-align: right;\n",
       "    }\n",
       "</style>\n",
       "<table border=\"1\" class=\"dataframe\">\n",
       "  <thead>\n",
       "    <tr style=\"text-align: right;\">\n",
       "      <th>churn</th>\n",
       "      <th>No</th>\n",
       "      <th>Yes</th>\n",
       "    </tr>\n",
       "    <tr>\n",
       "      <th>number_relationships</th>\n",
       "      <th></th>\n",
       "      <th></th>\n",
       "    </tr>\n",
       "  </thead>\n",
       "  <tbody>\n",
       "    <tr>\n",
       "      <th>0</th>\n",
       "      <td>0.654085</td>\n",
       "      <td>0.345915</td>\n",
       "    </tr>\n",
       "    <tr>\n",
       "      <th>1</th>\n",
       "      <td>0.754454</td>\n",
       "      <td>0.245546</td>\n",
       "    </tr>\n",
       "    <tr>\n",
       "      <th>2</th>\n",
       "      <td>0.861111</td>\n",
       "      <td>0.138889</td>\n",
       "    </tr>\n",
       "  </tbody>\n",
       "</table>\n",
       "</div>"
      ],
      "text/plain": [
       "churn                       No       Yes\n",
       "number_relationships                    \n",
       "0                     0.654085  0.345915\n",
       "1                     0.754454  0.245546\n",
       "2                     0.861111  0.138889"
      ]
     },
     "execution_count": 111,
     "metadata": {},
     "output_type": "execute_result"
    }
   ],
   "source": [
    "pd.crosstab(train.number_relationships, train.churn, normalize = 'index')"
   ]
  },
  {
   "cell_type": "code",
   "execution_count": 112,
   "id": "24c3b904",
   "metadata": {},
   "outputs": [
    {
     "data": {
      "text/plain": [
       "<AxesSubplot:xlabel='number_relationships', ylabel='count'>"
      ]
     },
     "execution_count": 112,
     "metadata": {},
     "output_type": "execute_result"
    },
    {
     "data": {
      "image/png": "[encoded data removed]",
      "text/plain": [
       "<Figure size 432x288 with 1 Axes>"
      ]
     },
     "metadata": {
      "needs_background": "light"
     },
     "output_type": "display_data"
    }
   ],
   "source": [
    "sns.countplot(x = 'number_relationships', hue = 'churn', data = train)"
   ]
  },
  {
   "cell_type": "markdown",
   "id": "14e8f99b",
   "metadata": {},
   "source": [
    "### --- Customers who have partners or dependents are less likely to churn. "
   ]
  },
  {
   "cell_type": "markdown",
   "id": "4c9d07da",
   "metadata": {},
   "source": [
    "# 6. Does the churn rate effeted by contract type?"
   ]
  },
  {
   "cell_type": "code",
   "execution_count": 105,
   "id": "2467c451",
   "metadata": {},
   "outputs": [
    {
     "data": {
      "text/plain": [
       "<AxesSubplot:xlabel='contract_type', ylabel='count'>"
      ]
     },
     "execution_count": 105,
     "metadata": {},
     "output_type": "execute_result"
    },
    {
     "data": {
      "image/png": "[encoded data removed]",
      "text/plain": [
       "<Figure size 432x288 with 1 Axes>"
      ]
     },
     "metadata": {
      "needs_background": "light"
     },
     "output_type": "display_data"
    }
   ],
   "source": [
    "sns.countplot(x = 'contract_type', hue = 'churn', data = train)"
   ]
  },
  {
   "cell_type": "markdown",
   "id": "18942952",
   "metadata": {},
   "source": [
    "### --- Month-to-month contract type has higher churn rate."
   ]
  },
  {
   "cell_type": "markdown",
   "id": "917f5dce",
   "metadata": {},
   "source": [
    "## Summary: \n",
    "\n",
    "1. Customers who have high monthly charges are more like to churn.\n",
    "2. Customers with Fiber are more like to churn.\n",
    "3. The churn customers have less tenure.\n",
    "4. The more additional services use, the churn rate is lower.\n",
    "5. Customers who have partners or dependents are less likely to churn.\n",
    "6. Month-to-month contract type has higher churn rate.\n",
    "\n",
    "#### Therefore, features I will use are: \n",
    "#### monthly charges, providers, tenure, addtional services, partners and dependents' number, contracts type."
   ]
  },
  {
   "cell_type": "markdown",
   "id": "69a30c3e",
   "metadata": {},
   "source": [
    "# Modeling"
   ]
  },
  {
   "cell_type": "code",
   "execution_count": 21,
   "id": "bcc7e803",
   "metadata": {},
   "outputs": [
    {
     "data": {
      "text/plain": [
       "0    3304\n",
       "1    1196\n",
       "Name: churn_encoded, dtype: int64"
      ]
     },
     "execution_count": 21,
     "metadata": {},
     "output_type": "execute_result"
    }
   ],
   "source": [
    "# create a baseline on train set\n",
    "train.churn_encoded.value_counts()"
   ]
  },
  {
   "cell_type": "code",
   "execution_count": 7,
   "id": "b8794b3d",
   "metadata": {},
   "outputs": [],
   "source": [
    "train['baseline_churn'] = 0"
   ]
  },
  {
   "cell_type": "code",
   "execution_count": 8,
   "id": "6e1bbcaf",
   "metadata": {},
   "outputs": [
    {
     "name": "stdout",
     "output_type": "stream",
     "text": [
      "baseline accuracy: 73.42%\n"
     ]
    }
   ],
   "source": [
    "baseline_churn_accuracy = (train.churn_encoded == train.baseline_churn).mean()\n",
    "\n",
    "print(f'baseline accuracy on train set: {baseline_churn_accuracy:.2%}')"
   ]
  },
  {
   "cell_type": "code",
   "execution_count": 11,
   "id": "e8cb3f89",
   "metadata": {},
   "outputs": [
    {
     "name": "stdout",
     "output_type": "stream",
     "text": [
      "              precision    recall  f1-score   support\n",
      "\n",
      "           0       0.73      1.00      0.85      3304\n",
      "           1       0.00      0.00      0.00      1196\n",
      "\n",
      "    accuracy                           0.73      4500\n",
      "   macro avg       0.37      0.50      0.42      4500\n",
      "weighted avg       0.54      0.73      0.62      4500\n",
      "\n"
     ]
    }
   ],
   "source": [
    "from sklearn.metrics import classification_report\n",
    "\n",
    "print(classification_report(train.churn_encoded, train.baseline_churn))"
   ]
  },
  {
   "cell_type": "markdown",
   "id": "c9515d3d",
   "metadata": {},
   "source": [
    "## Model 1 : Random forest"
   ]
  },
  {
   "cell_type": "code",
   "execution_count": 269,
   "id": "36352a0a",
   "metadata": {},
   "outputs": [],
   "source": [
    "from sklearn.ensemble import RandomForestClassifier\n",
    "from sklearn.tree import DecisionTreeClassifier, plot_tree, export_text\n",
    "from sklearn.metrics import classification_report, confusion_matrix, plot_confusion_matrix"
   ]
  },
  {
   "cell_type": "code",
   "execution_count": null,
   "id": "457b1026",
   "metadata": {},
   "outputs": [],
   "source": []
  },
  {
   "cell_type": "code",
   "execution_count": 373,
   "id": "c68b8400",
   "metadata": {},
   "outputs": [],
   "source": [
    "x_train = train[['monthly_charges', 'internet_service_type_Fiber optic','internet_service_type_None', \n",
    "                 'contract_type_One year', 'contract_type_Two year', 'tenure', 'additional_services',\n",
    "                 'number_relationships']]\n",
    "y_train = train.churn_encoded\n",
    "\n",
    "x_validate = validate[['monthly_charges', 'internet_service_type_Fiber optic','internet_service_type_None', \n",
    "                       'contract_type_One year', 'contract_type_Two year', 'tenure', 'additional_services', \n",
    "                       'number_relationships']]\n",
    "y_validate = validate.churn_encoded\n",
    "\n",
    "x_test = test[['monthly_charges', 'internet_service_type_Fiber optic','internet_service_type_None', \n",
    "               'contract_type_One year', 'contract_type_Two year', 'tenure', 'additional_services', \n",
    "               'number_relationships']]\n",
    "y_test = test.churn_encoded"
   ]
  },
  {
   "cell_type": "code",
   "execution_count": 341,
   "id": "91deb3f8",
   "metadata": {},
   "outputs": [
    {
     "data": {
      "text/html": [
       "<div>\n",
       "<style scoped>\n",
       "    .dataframe tbody tr th:only-of-type {\n",
       "        vertical-align: middle;\n",
       "    }\n",
       "\n",
       "    .dataframe tbody tr th {\n",
       "        vertical-align: top;\n",
       "    }\n",
       "\n",
       "    .dataframe thead th {\n",
       "        text-align: right;\n",
       "    }\n",
       "</style>\n",
       "<table border=\"1\" class=\"dataframe\">\n",
       "  <thead>\n",
       "    <tr style=\"text-align: right;\">\n",
       "      <th></th>\n",
       "      <th>monthly_charges</th>\n",
       "      <th>internet_service_type_Fiber optic</th>\n",
       "      <th>internet_service_type_None</th>\n",
       "      <th>contract_type_One year</th>\n",
       "      <th>contract_type_Two year</th>\n",
       "      <th>tenure</th>\n",
       "      <th>additional_services</th>\n",
       "      <th>number_relationships</th>\n",
       "    </tr>\n",
       "  </thead>\n",
       "  <tbody>\n",
       "    <tr>\n",
       "      <th>4216</th>\n",
       "      <td>84.30</td>\n",
       "      <td>1</td>\n",
       "      <td>0</td>\n",
       "      <td>0</td>\n",
       "      <td>0</td>\n",
       "      <td>18</td>\n",
       "      <td>1</td>\n",
       "      <td>0</td>\n",
       "    </tr>\n",
       "    <tr>\n",
       "      <th>1477</th>\n",
       "      <td>58.55</td>\n",
       "      <td>0</td>\n",
       "      <td>0</td>\n",
       "      <td>0</td>\n",
       "      <td>0</td>\n",
       "      <td>29</td>\n",
       "      <td>2</td>\n",
       "      <td>0</td>\n",
       "    </tr>\n",
       "    <tr>\n",
       "      <th>5752</th>\n",
       "      <td>24.75</td>\n",
       "      <td>0</td>\n",
       "      <td>1</td>\n",
       "      <td>0</td>\n",
       "      <td>1</td>\n",
       "      <td>72</td>\n",
       "      <td>0</td>\n",
       "      <td>0</td>\n",
       "    </tr>\n",
       "    <tr>\n",
       "      <th>1377</th>\n",
       "      <td>84.20</td>\n",
       "      <td>0</td>\n",
       "      <td>0</td>\n",
       "      <td>0</td>\n",
       "      <td>1</td>\n",
       "      <td>65</td>\n",
       "      <td>5</td>\n",
       "      <td>2</td>\n",
       "    </tr>\n",
       "    <tr>\n",
       "      <th>3965</th>\n",
       "      <td>99.25</td>\n",
       "      <td>1</td>\n",
       "      <td>0</td>\n",
       "      <td>1</td>\n",
       "      <td>0</td>\n",
       "      <td>58</td>\n",
       "      <td>4</td>\n",
       "      <td>2</td>\n",
       "    </tr>\n",
       "  </tbody>\n",
       "</table>\n",
       "</div>"
      ],
      "text/plain": [
       "      monthly_charges  internet_service_type_Fiber optic  \\\n",
       "4216            84.30                                  1   \n",
       "1477            58.55                                  0   \n",
       "5752            24.75                                  0   \n",
       "1377            84.20                                  0   \n",
       "3965            99.25                                  1   \n",
       "\n",
       "      internet_service_type_None  contract_type_One year  \\\n",
       "4216                           0                       0   \n",
       "1477                           0                       0   \n",
       "5752                           1                       0   \n",
       "1377                           0                       0   \n",
       "3965                           0                       1   \n",
       "\n",
       "      contract_type_Two year  tenure  additional_services  \\\n",
       "4216                       0      18                    1   \n",
       "1477                       0      29                    2   \n",
       "5752                       1      72                    0   \n",
       "1377                       1      65                    5   \n",
       "3965                       0      58                    4   \n",
       "\n",
       "      number_relationships  \n",
       "4216                     0  \n",
       "1477                     0  \n",
       "5752                     0  \n",
       "1377                     2  \n",
       "3965                     2  "
      ]
     },
     "execution_count": 341,
     "metadata": {},
     "output_type": "execute_result"
    }
   ],
   "source": [
    "x_train.head()"
   ]
  },
  {
   "cell_type": "code",
   "execution_count": 24,
   "id": "8e4b43d5",
   "metadata": {},
   "outputs": [
    {
     "data": {
      "text/plain": [
       "4216    0\n",
       "1477    0\n",
       "5752    0\n",
       "1377    0\n",
       "3965    0\n",
       "Name: churn_encoded, dtype: int64"
      ]
     },
     "execution_count": 24,
     "metadata": {},
     "output_type": "execute_result"
    }
   ],
   "source": [
    "y_train[:5]"
   ]
  },
  {
   "cell_type": "code",
   "execution_count": 374,
   "id": "4a54e075",
   "metadata": {},
   "outputs": [
    {
     "data": {
      "text/plain": [
       "RandomForestClassifier(max_depth=3, random_state=123)"
      ]
     },
     "execution_count": 374,
     "metadata": {},
     "output_type": "execute_result"
    }
   ],
   "source": [
    "# Create the object -------- Create the Random Forest object with desired hyper-parameters\n",
    "\n",
    "rf = RandomForestClassifier(max_depth=3,\n",
    "                            random_state=123)\n",
    "rf"
   ]
  },
  {
   "cell_type": "code",
   "execution_count": 36,
   "id": "d90c9f10",
   "metadata": {},
   "outputs": [
    {
     "name": "stdout",
     "output_type": "stream",
     "text": [
      "<class 'pandas.core.frame.DataFrame'>\n",
      "Int64Index: 4500 entries, 4216 to 3374\n",
      "Data columns (total 8 columns):\n",
      " #   Column                             Non-Null Count  Dtype  \n",
      "---  ------                             --------------  -----  \n",
      " 0   monthly_charges                    4500 non-null   float64\n",
      " 1   internet_service_type_Fiber optic  4500 non-null   uint8  \n",
      " 2   internet_service_type_None         4500 non-null   uint8  \n",
      " 3   contract_type_One year             4500 non-null   uint8  \n",
      " 4   contract_type_Two year             4500 non-null   uint8  \n",
      " 5   tenure                             4500 non-null   int64  \n",
      " 6   additional_services                4500 non-null   int64  \n",
      " 7   number_relationships               4500 non-null   int64  \n",
      "dtypes: float64(1), int64(3), uint8(4)\n",
      "memory usage: 193.4 KB\n"
     ]
    }
   ],
   "source": [
    "x_train.info()"
   ]
  },
  {
   "cell_type": "code",
   "execution_count": 375,
   "id": "1b556d89",
   "metadata": {},
   "outputs": [
    {
     "data": {
      "text/plain": [
       "RandomForestClassifier(max_depth=3, random_state=123)"
      ]
     },
     "execution_count": 375,
     "metadata": {},
     "output_type": "execute_result"
    }
   ],
   "source": [
    "# Fit the model ------- Fit the random forest algorithm to the training data.\n",
    "\n",
    "rf.fit(x_train, y_train)"
   ]
  },
  {
   "cell_type": "code",
   "execution_count": 376,
   "id": "8fb6c3b2",
   "metadata": {},
   "outputs": [
    {
     "data": {
      "text/plain": [
       "array([0, 0, 0, ..., 0, 0, 1])"
      ]
     },
     "execution_count": 376,
     "metadata": {},
     "output_type": "execute_result"
    }
   ],
   "source": [
    "# Make Predictions --------  Classify each flower by its estimated species.\n",
    "\n",
    "y_pred1 = rf.predict(x_train)\n",
    "y_pred1"
   ]
  },
  {
   "cell_type": "code",
   "execution_count": 377,
   "id": "aa789196",
   "metadata": {},
   "outputs": [
    {
     "data": {
      "text/plain": [
       "array([[0.56598533, 0.43401467],\n",
       "       [0.78268865, 0.21731135],\n",
       "       [0.9636286 , 0.0363714 ],\n",
       "       ...,\n",
       "       [0.97180725, 0.02819275],\n",
       "       [0.61254699, 0.38745301],\n",
       "       [0.42779762, 0.57220238]])"
      ]
     },
     "execution_count": 377,
     "metadata": {},
     "output_type": "execute_result"
    }
   ],
   "source": [
    "# Estimate Probability ------- Estimate the probability of each species, using the training data.\n",
    "\n",
    "y_pred_proba1 = rf.predict_proba(x_train)\n",
    "y_pred_proba1"
   ]
  },
  {
   "cell_type": "code",
   "execution_count": 378,
   "id": "0f641094",
   "metadata": {},
   "outputs": [
    {
     "name": "stdout",
     "output_type": "stream",
     "text": [
      "              precision    recall  f1-score   support\n",
      "\n",
      "           0       0.81      0.94      0.87      3304\n",
      "           1       0.71      0.39      0.50      1196\n",
      "\n",
      "    accuracy                           0.79      4500\n",
      "   macro avg       0.76      0.66      0.68      4500\n",
      "weighted avg       0.78      0.79      0.77      4500\n",
      "\n"
     ]
    }
   ],
   "source": [
    "print(classification_report(y_train, y_pred1))"
   ]
  },
  {
   "cell_type": "code",
   "execution_count": 379,
   "id": "e183b9a0",
   "metadata": {},
   "outputs": [
    {
     "name": "stdout",
     "output_type": "stream",
     "text": [
      "Accuracy of random forest classifier on train set: 0.79\n"
     ]
    }
   ],
   "source": [
    "print('Accuracy of random forest classifier on train set: {:.2f}'\n",
    "     .format(rf.score(x_train, y_train)))"
   ]
  },
  {
   "cell_type": "code",
   "execution_count": 380,
   "id": "811a2e70",
   "metadata": {},
   "outputs": [
    {
     "name": "stdout",
     "output_type": "stream",
     "text": [
      "Accuracy of random forest classifier on validate set: 0.78\n"
     ]
    }
   ],
   "source": [
    "# validate model\n",
    "\n",
    "print('Accuracy of random forest classifier on validate set: {:.2f}'\n",
    "     .format(rf.score(x_validate, y_validate)))"
   ]
  },
  {
   "cell_type": "code",
   "execution_count": 291,
   "id": "36e4b3bf",
   "metadata": {},
   "outputs": [
    {
     "data": {
      "text/plain": [
       "(3112, 192, 734, 462)"
      ]
     },
     "execution_count": 291,
     "metadata": {},
     "output_type": "execute_result"
    }
   ],
   "source": [
    "TN, FP, FN, TP = confusion_matrix(y_train, y_pred1).ravel()\n",
    "TN, FP, FN, TP"
   ]
  },
  {
   "cell_type": "code",
   "execution_count": 292,
   "id": "446c5735",
   "metadata": {},
   "outputs": [
    {
     "name": "stdout",
     "output_type": "stream",
     "text": [
      "Negative Cases: 3304\n",
      "Positive Cases: 1196\n",
      "0    3304\n",
      "1    1196\n",
      "Name: churn_encoded, dtype: int64\n"
     ]
    }
   ],
   "source": [
    "negative_cases = TN + FP\n",
    "positive_cases = FN + TP\n",
    "print(f\"Negative Cases: {negative_cases}\")\n",
    "print(f\"Positive Cases: {positive_cases}\")\n",
    "print(y_train.value_counts())"
   ]
  },
  {
   "cell_type": "code",
   "execution_count": 293,
   "id": "aeb4deaf",
   "metadata": {},
   "outputs": [
    {
     "name": "stdout",
     "output_type": "stream",
     "text": [
      "Accuracy: 0.7942222222222223 \n",
      "\n",
      "True Positive Rate/Sensitivity/Recall/Power: 0.3862876254180602 \n",
      "\n",
      "False Positive Rate/False Alarm Ratio/Fall-out: 0.05811138014527845 \n",
      "\n",
      "True Negative Rate/Specificity/Selectivity: 0.9418886198547215 \n",
      "\n",
      "False Negative Rate/Miss Rate: 0.6137123745819398 \n",
      "\n",
      "Precision/PPV: 0.7064220183486238 \n",
      "\n",
      "F1 Score: 0.49945945945945946 \n",
      "\n",
      "Support (0): 3304 \n",
      "\n",
      "Support (1): 1196\n"
     ]
    }
   ],
   "source": [
    "ALL = TP + FP + FN + TN\n",
    "\n",
    "accuracy = (TP + TN)/ALL\n",
    "true_positive_rate = sensitivity = recall = power = TP/(TP+FN)\n",
    "false_positive_rate = false_alarm_ratio = fallout = FP/(FP+TN)\n",
    "true_negative_rate = specificity = selectivity = TN/(TN+FP)\n",
    "false_negative_rate = miss_rate = FN/(FN+TP)\n",
    "precision = PPV = TP/(TP+FP)\n",
    "f1_score = 2*(precision*recall)/(precision+recall)\n",
    "support_pos = TP + FN\n",
    "support_neg = FP + TN\n",
    "\n",
    "print(f\"Accuracy: {accuracy}\", '\\n')\n",
    "print(f\"True Positive Rate/Sensitivity/Recall/Power: {true_positive_rate}\", '\\n')\n",
    "print(f\"False Positive Rate/False Alarm Ratio/Fall-out: {false_positive_rate}\", '\\n')\n",
    "print(f\"True Negative Rate/Specificity/Selectivity: {true_negative_rate}\", '\\n')\n",
    "print(f\"False Negative Rate/Miss Rate: {false_negative_rate}\", '\\n')\n",
    "print(f\"Precision/PPV: {precision}\", '\\n')\n",
    "print(f\"F1 Score: {f1_score}\", '\\n')\n",
    "print(f\"Support (0): {support_neg}\", '\\n')\n",
    "print(f\"Support (1): {support_pos}\")"
   ]
  },
  {
   "cell_type": "code",
   "execution_count": 348,
   "id": "635d9328",
   "metadata": {
    "scrolled": false
   },
   "outputs": [
    {
     "name": "stdout",
     "output_type": "stream",
     "text": [
      "Tree with max depth with 2\n",
      "                     0       1  accuracy    macro avg  weighted avg\n",
      "precision     0.734222     0.0  0.734222     0.367111      0.539082\n",
      "recall        1.000000     0.0  0.734222     0.500000      0.734222\n",
      "f1-score      0.846745     0.0  0.734222     0.423373      0.621699\n",
      "support    3304.000000  1196.0  0.734222  4500.000000   4500.000000\n",
      "\n",
      "Tree with max depth with 3\n",
      "                     0            1  accuracy    macro avg  weighted avg\n",
      "precision     0.809152     0.706422  0.794222     0.757787      0.781849\n",
      "recall        0.941889     0.386288  0.794222     0.664088      0.794222\n",
      "f1-score      0.870490     0.499459  0.794222     0.684974      0.771878\n",
      "support    3304.000000  1196.000000  0.794222  4500.000000   4500.000000\n",
      "\n",
      "Tree with max depth with 4\n",
      "                     0            1  accuracy    macro avg  weighted avg\n",
      "precision     0.811568     0.701031  0.794889     0.756299      0.782189\n",
      "recall        0.938559     0.397993  0.794889     0.668276      0.794889\n",
      "f1-score      0.870456     0.507733  0.794889     0.689095      0.774052\n",
      "support    3304.000000  1196.000000  0.794889  4500.000000   4500.000000\n",
      "\n",
      "Tree with max depth with 5\n",
      "                     0            1  accuracy    macro avg  weighted avg\n",
      "precision     0.815567     0.700000  0.797333     0.757784      0.784852\n",
      "recall        0.935533     0.415552  0.797333     0.675542      0.797333\n",
      "f1-score      0.871441     0.521511  0.797333     0.696476      0.778437\n",
      "support    3304.000000  1196.000000  0.797333  4500.000000   4500.000000\n",
      "\n",
      "Tree with max depth with 6\n",
      "                     0            1  accuracy    macro avg  weighted avg\n",
      "precision     0.827717     0.685366  0.801778     0.756542      0.789884\n",
      "recall        0.921913     0.469900  0.801778     0.695906      0.801778\n",
      "f1-score      0.872279     0.557540  0.801778     0.714910      0.788629\n",
      "support    3304.000000  1196.000000  0.801778  4500.000000   4500.000000\n",
      "\n",
      "Tree with max depth with 7\n",
      "                     0            1  accuracy    macro avg  weighted avg\n",
      "precision     0.831562     0.695548  0.806444     0.763555      0.795412\n",
      "recall        0.923426     0.483278  0.806444     0.703352      0.806444\n",
      "f1-score      0.875090     0.570301  0.806444     0.722695      0.794084\n",
      "support    3304.000000  1196.000000  0.806444  4500.000000   4500.000000\n",
      "\n",
      "Tree with max depth with 8\n",
      "                     0            1  accuracy    macro avg  weighted avg\n",
      "precision     0.846624     0.714761  0.820222     0.780693      0.811578\n",
      "recall        0.922215     0.538462  0.820222     0.730339      0.820222\n",
      "f1-score      0.882805     0.614211  0.820222     0.748508      0.811418\n",
      "support    3304.000000  1196.000000  0.820222  4500.000000   4500.000000\n",
      "\n",
      "Tree with max depth with 9\n",
      "                     0            1  accuracy    macro avg  weighted avg\n",
      "precision     0.864445     0.746611  0.839333     0.805528      0.833127\n",
      "recall        0.926453     0.598662  0.839333     0.762557      0.839333\n",
      "f1-score      0.894375     0.664501  0.839333     0.779438      0.833280\n",
      "support    3304.000000  1196.000000  0.839333  4500.000000   4500.000000\n",
      "\n",
      "Tree with max depth with 10\n",
      "                     0            1  accuracy    macro avg  weighted avg\n",
      "precision     0.880149     0.773904  0.856444     0.827027      0.851911\n",
      "recall        0.931295     0.649666  0.856444     0.790480      0.856444\n",
      "f1-score      0.905000     0.706364  0.856444     0.805682      0.852207\n",
      "support    3304.000000  1196.000000  0.856444  4500.000000   4500.000000\n",
      "\n",
      "Tree with max depth with 11\n",
      "                     0            1  accuracy   macro avg  weighted avg\n",
      "precision     0.906159     0.825142  0.887111     0.86565      0.884627\n",
      "recall        0.944007     0.729933  0.887111     0.83697      0.887111\n",
      "f1-score      0.924696     0.774623  0.887111     0.84966      0.884810\n",
      "support    3304.000000  1196.000000  0.887111  4500.00000   4500.000000\n",
      "\n",
      "Tree with max depth with 12\n",
      "                     0            1  accuracy    macro avg  weighted avg\n",
      "precision     0.928950     0.861913  0.912444     0.895432      0.911133\n",
      "recall        0.953692     0.798495  0.912444     0.876094      0.912444\n",
      "f1-score      0.941159     0.828993  0.912444     0.885076      0.911348\n",
      "support    3304.000000  1196.000000  0.912444  4500.000000   4500.000000\n",
      "\n",
      "Tree with max depth with 13\n",
      "                     0            1  accuracy    macro avg  weighted avg\n",
      "precision     0.950986     0.894281  0.936444     0.922634      0.935915\n",
      "recall        0.963075     0.862876  0.936444     0.912976      0.936444\n",
      "f1-score      0.956992     0.878298  0.936444     0.917645      0.936077\n",
      "support    3304.000000  1196.000000  0.936444  4500.000000   4500.000000\n",
      "\n",
      "Tree with max depth with 14\n",
      "                     0            1  accuracy    macro avg  weighted avg\n",
      "precision     0.967307     0.932247  0.958222     0.949777      0.957988\n",
      "recall        0.976090     0.908863  0.958222     0.942476      0.958222\n",
      "f1-score      0.971678     0.920406  0.958222     0.946042      0.958051\n",
      "support    3304.000000  1196.000000  0.958222  4500.000000   4500.000000\n",
      "\n",
      "Tree with max depth with 15\n",
      "                     0            1  accuracy    macro avg  weighted avg\n",
      "precision     0.979148     0.946264  0.970444     0.962706      0.970408\n",
      "recall        0.980630     0.942308  0.970444     0.961469      0.970444\n",
      "f1-score      0.979888     0.944282  0.970444     0.962085      0.970425\n",
      "support    3304.000000  1196.000000  0.970444  4500.000000   4500.000000\n",
      "\n",
      "Tree with max depth with 16\n",
      "                     0            1  accuracy    macro avg  weighted avg\n",
      "precision     0.989101     0.969089  0.983778     0.979095      0.983782\n",
      "recall        0.988801     0.969900  0.983778     0.979351      0.983778\n",
      "f1-score      0.988951     0.969494  0.983778     0.979223      0.983780\n",
      "support    3304.000000  1196.000000  0.983778  4500.000000   4500.000000\n",
      "\n",
      "Tree with max depth with 17\n",
      "                     0            1  accuracy    macro avg  weighted avg\n",
      "precision     0.991228     0.977387  0.987556     0.984308      0.987549\n",
      "recall        0.991828     0.975753  0.987556     0.983790      0.987556\n",
      "f1-score      0.991528     0.976569  0.987556     0.984049      0.987552\n",
      "support    3304.000000  1196.000000  0.987556  4500.000000   4500.000000\n",
      "\n",
      "Tree with max depth with 18\n",
      "                     0            1  accuracy    macro avg  weighted avg\n",
      "precision     0.992736     0.979933  0.989333     0.986335      0.989333\n",
      "recall        0.992736     0.979933  0.989333     0.986335      0.989333\n",
      "f1-score      0.992736     0.979933  0.989333     0.986335      0.989333\n",
      "support    3304.000000  1196.000000  0.989333  4500.000000   4500.000000\n",
      "\n",
      "Tree with max depth with 19\n",
      "                     0            1  accuracy    macro avg  weighted avg\n",
      "precision     0.993341     0.981605  0.990222     0.987473      0.990222\n",
      "recall        0.993341     0.981605  0.990222     0.987473      0.990222\n",
      "f1-score      0.993341     0.981605  0.990222     0.987473      0.990222\n",
      "support    3304.000000  1196.000000  0.990222  4500.000000   4500.000000\n",
      "\n"
     ]
    }
   ],
   "source": [
    "for i in range(2,20):\n",
    "    # make the model\n",
    "    rf = RandomForestClassifier(max_depth=i, \n",
    "                            random_state=123)\n",
    "    \n",
    "    # fit the model (ont the train and only train)\n",
    "    rf = rf.fit(x_train, y_train)\n",
    "    \n",
    "    # use the model\n",
    "    # We'll evaluate the model's performance on train, first\n",
    "    y_pred = rf.predict(x_train)\n",
    "    \n",
    "    # Produce the classification report on the actual y values and this model's predicted y values\n",
    "    report = classification_report(y_train, y_pred, output_dict=True)\n",
    "    \n",
    "    print(f'Tree with max depth with {i}')\n",
    "    print(pd.DataFrame(report))\n",
    "    print()"
   ]
  },
  {
   "cell_type": "code",
   "execution_count": 349,
   "id": "cd7bc864",
   "metadata": {},
   "outputs": [
    {
     "data": {
      "text/html": [
       "<div>\n",
       "<style scoped>\n",
       "    .dataframe tbody tr th:only-of-type {\n",
       "        vertical-align: middle;\n",
       "    }\n",
       "\n",
       "    .dataframe tbody tr th {\n",
       "        vertical-align: top;\n",
       "    }\n",
       "\n",
       "    .dataframe thead th {\n",
       "        text-align: right;\n",
       "    }\n",
       "</style>\n",
       "<table border=\"1\" class=\"dataframe\">\n",
       "  <thead>\n",
       "    <tr style=\"text-align: right;\">\n",
       "      <th></th>\n",
       "      <th>max_depth</th>\n",
       "      <th>train_accuracy</th>\n",
       "      <th>validate_accuracy</th>\n",
       "      <th>difference</th>\n",
       "    </tr>\n",
       "  </thead>\n",
       "  <tbody>\n",
       "    <tr>\n",
       "      <th>0</th>\n",
       "      <td>2</td>\n",
       "      <td>0.734222</td>\n",
       "      <td>0.734222</td>\n",
       "      <td>0.000000</td>\n",
       "    </tr>\n",
       "    <tr>\n",
       "      <th>1</th>\n",
       "      <td>3</td>\n",
       "      <td>0.794222</td>\n",
       "      <td>0.776000</td>\n",
       "      <td>0.018222</td>\n",
       "    </tr>\n",
       "    <tr>\n",
       "      <th>2</th>\n",
       "      <td>4</td>\n",
       "      <td>0.794889</td>\n",
       "      <td>0.770667</td>\n",
       "      <td>0.024222</td>\n",
       "    </tr>\n",
       "    <tr>\n",
       "      <th>3</th>\n",
       "      <td>5</td>\n",
       "      <td>0.797333</td>\n",
       "      <td>0.771556</td>\n",
       "      <td>0.025778</td>\n",
       "    </tr>\n",
       "    <tr>\n",
       "      <th>4</th>\n",
       "      <td>6</td>\n",
       "      <td>0.801778</td>\n",
       "      <td>0.772444</td>\n",
       "      <td>0.029333</td>\n",
       "    </tr>\n",
       "    <tr>\n",
       "      <th>5</th>\n",
       "      <td>7</td>\n",
       "      <td>0.806444</td>\n",
       "      <td>0.776889</td>\n",
       "      <td>0.029556</td>\n",
       "    </tr>\n",
       "    <tr>\n",
       "      <th>6</th>\n",
       "      <td>8</td>\n",
       "      <td>0.820222</td>\n",
       "      <td>0.776000</td>\n",
       "      <td>0.044222</td>\n",
       "    </tr>\n",
       "    <tr>\n",
       "      <th>7</th>\n",
       "      <td>9</td>\n",
       "      <td>0.839333</td>\n",
       "      <td>0.768889</td>\n",
       "      <td>0.070444</td>\n",
       "    </tr>\n",
       "    <tr>\n",
       "      <th>8</th>\n",
       "      <td>10</td>\n",
       "      <td>0.856444</td>\n",
       "      <td>0.773333</td>\n",
       "      <td>0.083111</td>\n",
       "    </tr>\n",
       "    <tr>\n",
       "      <th>9</th>\n",
       "      <td>11</td>\n",
       "      <td>0.887111</td>\n",
       "      <td>0.777778</td>\n",
       "      <td>0.109333</td>\n",
       "    </tr>\n",
       "    <tr>\n",
       "      <th>10</th>\n",
       "      <td>12</td>\n",
       "      <td>0.912444</td>\n",
       "      <td>0.775111</td>\n",
       "      <td>0.137333</td>\n",
       "    </tr>\n",
       "    <tr>\n",
       "      <th>11</th>\n",
       "      <td>13</td>\n",
       "      <td>0.936444</td>\n",
       "      <td>0.771556</td>\n",
       "      <td>0.164889</td>\n",
       "    </tr>\n",
       "    <tr>\n",
       "      <th>12</th>\n",
       "      <td>14</td>\n",
       "      <td>0.958222</td>\n",
       "      <td>0.772444</td>\n",
       "      <td>0.185778</td>\n",
       "    </tr>\n",
       "    <tr>\n",
       "      <th>13</th>\n",
       "      <td>15</td>\n",
       "      <td>0.970444</td>\n",
       "      <td>0.767111</td>\n",
       "      <td>0.203333</td>\n",
       "    </tr>\n",
       "    <tr>\n",
       "      <th>14</th>\n",
       "      <td>16</td>\n",
       "      <td>0.983778</td>\n",
       "      <td>0.763556</td>\n",
       "      <td>0.220222</td>\n",
       "    </tr>\n",
       "    <tr>\n",
       "      <th>15</th>\n",
       "      <td>17</td>\n",
       "      <td>0.987556</td>\n",
       "      <td>0.763556</td>\n",
       "      <td>0.224000</td>\n",
       "    </tr>\n",
       "    <tr>\n",
       "      <th>16</th>\n",
       "      <td>18</td>\n",
       "      <td>0.989333</td>\n",
       "      <td>0.759111</td>\n",
       "      <td>0.230222</td>\n",
       "    </tr>\n",
       "    <tr>\n",
       "      <th>17</th>\n",
       "      <td>19</td>\n",
       "      <td>0.990222</td>\n",
       "      <td>0.764444</td>\n",
       "      <td>0.225778</td>\n",
       "    </tr>\n",
       "  </tbody>\n",
       "</table>\n",
       "</div>"
      ],
      "text/plain": [
       "    max_depth  train_accuracy  validate_accuracy  difference\n",
       "0           2        0.734222           0.734222    0.000000\n",
       "1           3        0.794222           0.776000    0.018222\n",
       "2           4        0.794889           0.770667    0.024222\n",
       "3           5        0.797333           0.771556    0.025778\n",
       "4           6        0.801778           0.772444    0.029333\n",
       "5           7        0.806444           0.776889    0.029556\n",
       "6           8        0.820222           0.776000    0.044222\n",
       "7           9        0.839333           0.768889    0.070444\n",
       "8          10        0.856444           0.773333    0.083111\n",
       "9          11        0.887111           0.777778    0.109333\n",
       "10         12        0.912444           0.775111    0.137333\n",
       "11         13        0.936444           0.771556    0.164889\n",
       "12         14        0.958222           0.772444    0.185778\n",
       "13         15        0.970444           0.767111    0.203333\n",
       "14         16        0.983778           0.763556    0.220222\n",
       "15         17        0.987556           0.763556    0.224000\n",
       "16         18        0.989333           0.759111    0.230222\n",
       "17         19        0.990222           0.764444    0.225778"
      ]
     },
     "execution_count": 349,
     "metadata": {},
     "output_type": "execute_result"
    }
   ],
   "source": [
    "# ompare in-sample to out-of-sample\n",
    "\n",
    "metrics = []\n",
    "\n",
    "for i in range(2,20):\n",
    "    rf = RandomForestClassifier(max_depth=i,\n",
    "                            random_state=123)\n",
    "    \n",
    "    rf = rf.fit(x_train, y_train)\n",
    "    \n",
    "    in_sample_accuracy = rf.score(x_train, y_train)\n",
    "    \n",
    "    out_of_sample_accuracy = rf.score(x_validate, y_validate)\n",
    "    \n",
    "    output = {\"max_depth\": i,\n",
    "        \"train_accuracy\": in_sample_accuracy,\n",
    "        \"validate_accuracy\": out_of_sample_accuracy}\n",
    "        \n",
    "    metrics.append(output)\n",
    "    \n",
    "df1 = pd.DataFrame(metrics)\n",
    "df1[\"difference\"] = df1.train_accuracy - df1.validate_accuracy\n",
    "df1"
   ]
  },
  {
   "cell_type": "code",
   "execution_count": 350,
   "id": "1cdb9dd0",
   "metadata": {},
   "outputs": [
    {
     "data": {
      "image/png": "[encoded data removed]",
      "text/plain": [
       "<Figure size 864x432 with 1 Axes>"
      ]
     },
     "metadata": {
      "needs_background": "light"
     },
     "output_type": "display_data"
    }
   ],
   "source": [
    "plt.figure(figsize=(12, 6))\n",
    "plt.plot(df1.max_depth, df1.train_accuracy, color = 'r', marker = 'o')\n",
    "plt.plot(df1.max_depth, df1.validate_accuracy, color = 'b', marker = 'o')\n",
    "plt.title('Overfitting Occurs at Higher Values for Max Depth')\n",
    "plt.xlabel('Max Depth')\n",
    "plt.ylabel('Accuracy')\n",
    "plt.show()"
   ]
  },
  {
   "cell_type": "code",
   "execution_count": 351,
   "id": "7d9de4d1",
   "metadata": {},
   "outputs": [
    {
     "data": {
      "text/html": [
       "<div>\n",
       "<style scoped>\n",
       "    .dataframe tbody tr th:only-of-type {\n",
       "        vertical-align: middle;\n",
       "    }\n",
       "\n",
       "    .dataframe tbody tr th {\n",
       "        vertical-align: top;\n",
       "    }\n",
       "\n",
       "    .dataframe thead th {\n",
       "        text-align: right;\n",
       "    }\n",
       "</style>\n",
       "<table border=\"1\" class=\"dataframe\">\n",
       "  <thead>\n",
       "    <tr style=\"text-align: right;\">\n",
       "      <th></th>\n",
       "      <th>max_depth</th>\n",
       "      <th>train_accuracy</th>\n",
       "      <th>validate_accuracy</th>\n",
       "      <th>difference</th>\n",
       "    </tr>\n",
       "  </thead>\n",
       "  <tbody>\n",
       "    <tr>\n",
       "      <th>5</th>\n",
       "      <td>7</td>\n",
       "      <td>0.806444</td>\n",
       "      <td>0.776889</td>\n",
       "      <td>0.029556</td>\n",
       "    </tr>\n",
       "    <tr>\n",
       "      <th>1</th>\n",
       "      <td>3</td>\n",
       "      <td>0.794222</td>\n",
       "      <td>0.776000</td>\n",
       "      <td>0.018222</td>\n",
       "    </tr>\n",
       "    <tr>\n",
       "      <th>4</th>\n",
       "      <td>6</td>\n",
       "      <td>0.801778</td>\n",
       "      <td>0.772444</td>\n",
       "      <td>0.029333</td>\n",
       "    </tr>\n",
       "    <tr>\n",
       "      <th>3</th>\n",
       "      <td>5</td>\n",
       "      <td>0.797333</td>\n",
       "      <td>0.771556</td>\n",
       "      <td>0.025778</td>\n",
       "    </tr>\n",
       "    <tr>\n",
       "      <th>2</th>\n",
       "      <td>4</td>\n",
       "      <td>0.794889</td>\n",
       "      <td>0.770667</td>\n",
       "      <td>0.024222</td>\n",
       "    </tr>\n",
       "    <tr>\n",
       "      <th>0</th>\n",
       "      <td>2</td>\n",
       "      <td>0.734222</td>\n",
       "      <td>0.734222</td>\n",
       "      <td>0.000000</td>\n",
       "    </tr>\n",
       "  </tbody>\n",
       "</table>\n",
       "</div>"
      ],
      "text/plain": [
       "   max_depth  train_accuracy  validate_accuracy  difference\n",
       "5          7        0.806444           0.776889    0.029556\n",
       "1          3        0.794222           0.776000    0.018222\n",
       "4          6        0.801778           0.772444    0.029333\n",
       "3          5        0.797333           0.771556    0.025778\n",
       "2          4        0.794889           0.770667    0.024222\n",
       "0          2        0.734222           0.734222    0.000000"
      ]
     },
     "execution_count": 351,
     "metadata": {},
     "output_type": "execute_result"
    }
   ],
   "source": [
    "df1[df1.difference <= 0.03].sort_values(by=['validate_accuracy', 'difference'], ascending = [False,True])"
   ]
  },
  {
   "cell_type": "markdown",
   "id": "f760f1c1",
   "metadata": {},
   "source": [
    "### max_depth = 3 is the best choice"
   ]
  },
  {
   "cell_type": "code",
   "execution_count": 352,
   "id": "c8f04fe6",
   "metadata": {},
   "outputs": [
    {
     "name": "stdout",
     "output_type": "stream",
     "text": [
      "baseline accuracy on train set: 73.42%\n",
      "Accuracy of random forest classifier on train set: 99.02%\n"
     ]
    }
   ],
   "source": [
    "print(f'baseline accuracy on train set: {baseline_churn_accuracy:.2%}')\n",
    "print('Accuracy of random forest classifier on train set: {:.2%}'\n",
    "     .format(rf.score(x_train, y_train)))"
   ]
  },
  {
   "cell_type": "markdown",
   "id": "a7580c18",
   "metadata": {},
   "source": [
    "# Model 2 : KNN"
   ]
  },
  {
   "cell_type": "code",
   "execution_count": 353,
   "id": "a32a30e2",
   "metadata": {},
   "outputs": [],
   "source": [
    "from sklearn.neighbors import KNeighborsClassifier\n",
    "\n",
    "# Create KNN Object\n",
    "knn = KNeighborsClassifier(n_neighbors=10)\n",
    "# n_neighbors=1, weights='uniform'"
   ]
  },
  {
   "cell_type": "code",
   "execution_count": 354,
   "id": "396a686a",
   "metadata": {},
   "outputs": [
    {
     "data": {
      "text/plain": [
       "KNeighborsClassifier(n_neighbors=10)"
      ]
     },
     "execution_count": 354,
     "metadata": {},
     "output_type": "execute_result"
    }
   ],
   "source": [
    "# Fit the Model to the Training Data\n",
    "knn.fit(x_train, y_train)"
   ]
  },
  {
   "cell_type": "code",
   "execution_count": 355,
   "id": "27f64b5d",
   "metadata": {},
   "outputs": [
    {
     "data": {
      "text/plain": [
       "array([0, 0, 0, 0, 0])"
      ]
     },
     "execution_count": 355,
     "metadata": {},
     "output_type": "execute_result"
    }
   ],
   "source": [
    "# Make Predictions\n",
    "y_pred2 = knn.predict(x_train)\n",
    "y_pred2[:5]"
   ]
  },
  {
   "cell_type": "code",
   "execution_count": 144,
   "id": "d9cd4588",
   "metadata": {},
   "outputs": [
    {
     "data": {
      "text/plain": [
       "4216    0\n",
       "1477    0\n",
       "5752    0\n",
       "1377    0\n",
       "3965    0\n",
       "Name: churn_encoded, dtype: int64"
      ]
     },
     "execution_count": 144,
     "metadata": {},
     "output_type": "execute_result"
    }
   ],
   "source": [
    "y_train[:5]"
   ]
  },
  {
   "cell_type": "code",
   "execution_count": 356,
   "id": "56627b8d",
   "metadata": {},
   "outputs": [
    {
     "data": {
      "text/plain": [
       "array([[0.5, 0.5],\n",
       "       [1. , 0. ],\n",
       "       [1. , 0. ],\n",
       "       [1. , 0. ],\n",
       "       [0.8, 0.2]])"
      ]
     },
     "execution_count": 356,
     "metadata": {},
     "output_type": "execute_result"
    }
   ],
   "source": [
    "# Estimate Probability\n",
    "y_pred_proba2 = knn.predict_proba(x_train)\n",
    "y_pred_proba2[:5]"
   ]
  },
  {
   "cell_type": "code",
   "execution_count": 357,
   "id": "3668869f",
   "metadata": {},
   "outputs": [
    {
     "name": "stdout",
     "output_type": "stream",
     "text": [
      "Accuracy of KNN(k=10) classifier on training set: 81.84%\n"
     ]
    }
   ],
   "source": [
    "print('Accuracy of KNN(k=10) classifier on training set: {:.2%}'\n",
    "     .format(knn.score(x_train, y_train)))"
   ]
  },
  {
   "cell_type": "code",
   "execution_count": 147,
   "id": "759c68eb",
   "metadata": {},
   "outputs": [
    {
     "name": "stdout",
     "output_type": "stream",
     "text": [
      "[[3102  202]\n",
      " [ 615  581]]\n"
     ]
    }
   ],
   "source": [
    "print(confusion_matrix(y_train, y_pred2))"
   ]
  },
  {
   "cell_type": "code",
   "execution_count": 358,
   "id": "fbe3adc8",
   "metadata": {},
   "outputs": [
    {
     "name": "stdout",
     "output_type": "stream",
     "text": [
      "              precision    recall  f1-score   support\n",
      "\n",
      "           0       0.83      0.94      0.88      3304\n",
      "           1       0.74      0.49      0.59      1196\n",
      "\n",
      "    accuracy                           0.82      4500\n",
      "   macro avg       0.79      0.71      0.74      4500\n",
      "weighted avg       0.81      0.82      0.80      4500\n",
      "\n"
     ]
    }
   ],
   "source": [
    "print(classification_report(y_train, y_pred2))"
   ]
  },
  {
   "cell_type": "code",
   "execution_count": 359,
   "id": "1876dff9",
   "metadata": {},
   "outputs": [
    {
     "data": {
      "text/plain": [
       "(3102, 202, 615, 581)"
      ]
     },
     "execution_count": 359,
     "metadata": {},
     "output_type": "execute_result"
    }
   ],
   "source": [
    "TN1, FP1, FN1, TP1 = confusion_matrix(y_train, y_pred2).ravel()\n",
    "TN1, FP1, FN1, TP1"
   ]
  },
  {
   "cell_type": "code",
   "execution_count": 360,
   "id": "5f83fe12",
   "metadata": {},
   "outputs": [
    {
     "name": "stdout",
     "output_type": "stream",
     "text": [
      "Accuracy: 0.8184444444444444 \n",
      "\n",
      "True Positive Rate/Sensitivity/Recall/Power: 0.48578595317725753 \n",
      "\n",
      "False Positive Rate/False Alarm Ratio/Fall-out: 0.061138014527845036 \n",
      "\n",
      "True Negative Rate/Specificity/Selectivity: 0.9388619854721549 \n",
      "\n",
      "False Negative Rate/Miss Rate: 0.5142140468227425 \n",
      "\n",
      "Precision/PPV: 0.7420178799489144 \n",
      "\n",
      "F1 Score: 0.5871652349671551 \n",
      "\n",
      "Support (0): 3304 \n",
      "\n",
      "Support (1): 1196\n"
     ]
    }
   ],
   "source": [
    "ALL1 = TP1 + FP1 + FN1 + TN1\n",
    "\n",
    "accuracy = (TP1 + TN1)/ALL1\n",
    "true_positive_rate = sensitivity = recall = power = TP1/(TP1+FN1)\n",
    "false_positive_rate = false_alarm_ratio = fallout = FP1/(FP1+TN1)\n",
    "true_negative_rate = specificity = selectivity = TN1/(TN1+FP1)\n",
    "false_negative_rate = miss_rate = FN1/(FN1+TP1)\n",
    "precision = PPV = TP1/(TP1+FP1)\n",
    "f1_score = 2*(precision*recall)/(precision+recall)\n",
    "support_pos = TP1 + FN1\n",
    "support_neg = FP1 + TN1\n",
    "\n",
    "print(f\"Accuracy: {accuracy}\", '\\n')\n",
    "print(f\"True Positive Rate/Sensitivity/Recall/Power: {true_positive_rate}\", '\\n')\n",
    "print(f\"False Positive Rate/False Alarm Ratio/Fall-out: {false_positive_rate}\", '\\n')\n",
    "print(f\"True Negative Rate/Specificity/Selectivity: {true_negative_rate}\", '\\n')\n",
    "print(f\"False Negative Rate/Miss Rate: {false_negative_rate}\", '\\n')\n",
    "print(f\"Precision/PPV: {precision}\", '\\n')\n",
    "print(f\"F1 Score: {f1_score}\", '\\n')\n",
    "print(f\"Support (0): {support_neg}\", '\\n')\n",
    "print(f\"Support (1): {support_pos}\")"
   ]
  },
  {
   "cell_type": "code",
   "execution_count": 361,
   "id": "9abbe566",
   "metadata": {},
   "outputs": [
    {
     "data": {
      "image/png": "[encoded data removed]",
      "text/plain": [
       "<Figure size 864x432 with 1 Axes>"
      ]
     },
     "metadata": {
      "needs_background": "light"
     },
     "output_type": "display_data"
    }
   ],
   "source": [
    "k_range = range(1, 20)\n",
    "train_scores = []\n",
    "validate_scores = []\n",
    "test_scores = []\n",
    "for k in k_range:\n",
    "    knn = KNeighborsClassifier(n_neighbors = k)\n",
    "    knn.fit(x_train, y_train)\n",
    "    train_scores.append(knn.score(x_train, y_train))\n",
    "    validate_scores.append(knn.score(x_validate, y_validate))\n",
    "    test_scores.append(knn.score(x_test, y_test))\n",
    "plt.figure(figsize=(12, 6))\n",
    "plt.xlabel('k')\n",
    "plt.ylabel('accuracy')\n",
    "plt.plot(k_range, train_scores, label='Train')\n",
    "plt.plot(k_range, validate_scores, label='Validate')\n",
    "plt.plot(k_range, test_scores, label='Test')\n",
    "plt.legend()\n",
    "plt.xticks([0,5,10,15,20])\n",
    "plt.show()"
   ]
  },
  {
   "cell_type": "markdown",
   "id": "25d7a8c3",
   "metadata": {},
   "source": [
    "### --- K=10 will be the best choice"
   ]
  },
  {
   "cell_type": "code",
   "execution_count": null,
   "id": "ab7b922f",
   "metadata": {},
   "outputs": [],
   "source": []
  },
  {
   "cell_type": "code",
   "execution_count": 362,
   "id": "bda5a888",
   "metadata": {},
   "outputs": [
    {
     "name": "stdout",
     "output_type": "stream",
     "text": [
      "Baseline accuracy on train set: 73.42%\n",
      "Accuracy of random forest classifier on train set: 99.02%\n",
      "Accuracy of KNN(k=10) classifier on training set: 80.69%\n"
     ]
    }
   ],
   "source": [
    "print(f'Baseline accuracy on train set: {baseline_churn_accuracy:.2%}')\n",
    "print('Accuracy of random forest classifier on train set: {:.2%}'\n",
    "     .format(rf.score(x_train, y_train)))\n",
    "print('Accuracy of KNN(k=10) classifier on training set: {:.2%}'\n",
    "     .format(knn.score(x_train, y_train)))"
   ]
  },
  {
   "cell_type": "markdown",
   "id": "e04b3113",
   "metadata": {},
   "source": [
    "## Model 3: Logistic Regression"
   ]
  },
  {
   "cell_type": "code",
   "execution_count": 158,
   "id": "27a0a97f",
   "metadata": {},
   "outputs": [],
   "source": [
    "from sklearn.linear_model import LogisticRegression"
   ]
  },
  {
   "cell_type": "code",
   "execution_count": 160,
   "id": "365c9700",
   "metadata": {},
   "outputs": [
    {
     "data": {
      "text/html": [
       "<div>\n",
       "<style scoped>\n",
       "    .dataframe tbody tr th:only-of-type {\n",
       "        vertical-align: middle;\n",
       "    }\n",
       "\n",
       "    .dataframe tbody tr th {\n",
       "        vertical-align: top;\n",
       "    }\n",
       "\n",
       "    .dataframe thead th {\n",
       "        text-align: right;\n",
       "    }\n",
       "</style>\n",
       "<table border=\"1\" class=\"dataframe\">\n",
       "  <thead>\n",
       "    <tr style=\"text-align: right;\">\n",
       "      <th></th>\n",
       "      <th>monthly_charges</th>\n",
       "      <th>internet_service_type_Fiber optic</th>\n",
       "      <th>internet_service_type_None</th>\n",
       "      <th>contract_type_One year</th>\n",
       "      <th>contract_type_Two year</th>\n",
       "      <th>tenure</th>\n",
       "      <th>additional_services</th>\n",
       "      <th>number_relationships</th>\n",
       "    </tr>\n",
       "  </thead>\n",
       "  <tbody>\n",
       "    <tr>\n",
       "      <th>4216</th>\n",
       "      <td>84.30</td>\n",
       "      <td>1</td>\n",
       "      <td>0</td>\n",
       "      <td>0</td>\n",
       "      <td>0</td>\n",
       "      <td>18</td>\n",
       "      <td>1</td>\n",
       "      <td>0</td>\n",
       "    </tr>\n",
       "    <tr>\n",
       "      <th>1477</th>\n",
       "      <td>58.55</td>\n",
       "      <td>0</td>\n",
       "      <td>0</td>\n",
       "      <td>0</td>\n",
       "      <td>0</td>\n",
       "      <td>29</td>\n",
       "      <td>2</td>\n",
       "      <td>0</td>\n",
       "    </tr>\n",
       "    <tr>\n",
       "      <th>5752</th>\n",
       "      <td>24.75</td>\n",
       "      <td>0</td>\n",
       "      <td>1</td>\n",
       "      <td>0</td>\n",
       "      <td>1</td>\n",
       "      <td>72</td>\n",
       "      <td>0</td>\n",
       "      <td>0</td>\n",
       "    </tr>\n",
       "    <tr>\n",
       "      <th>1377</th>\n",
       "      <td>84.20</td>\n",
       "      <td>0</td>\n",
       "      <td>0</td>\n",
       "      <td>0</td>\n",
       "      <td>1</td>\n",
       "      <td>65</td>\n",
       "      <td>5</td>\n",
       "      <td>2</td>\n",
       "    </tr>\n",
       "    <tr>\n",
       "      <th>3965</th>\n",
       "      <td>99.25</td>\n",
       "      <td>1</td>\n",
       "      <td>0</td>\n",
       "      <td>1</td>\n",
       "      <td>0</td>\n",
       "      <td>58</td>\n",
       "      <td>4</td>\n",
       "      <td>2</td>\n",
       "    </tr>\n",
       "  </tbody>\n",
       "</table>\n",
       "</div>"
      ],
      "text/plain": [
       "      monthly_charges  internet_service_type_Fiber optic  \\\n",
       "4216            84.30                                  1   \n",
       "1477            58.55                                  0   \n",
       "5752            24.75                                  0   \n",
       "1377            84.20                                  0   \n",
       "3965            99.25                                  1   \n",
       "\n",
       "      internet_service_type_None  contract_type_One year  \\\n",
       "4216                           0                       0   \n",
       "1477                           0                       0   \n",
       "5752                           1                       0   \n",
       "1377                           0                       0   \n",
       "3965                           0                       1   \n",
       "\n",
       "      contract_type_Two year  tenure  additional_services  \\\n",
       "4216                       0      18                    1   \n",
       "1477                       0      29                    2   \n",
       "5752                       1      72                    0   \n",
       "1377                       1      65                    5   \n",
       "3965                       0      58                    4   \n",
       "\n",
       "      number_relationships  \n",
       "4216                     0  \n",
       "1477                     0  \n",
       "5752                     0  \n",
       "1377                     2  \n",
       "3965                     2  "
      ]
     },
     "execution_count": 160,
     "metadata": {},
     "output_type": "execute_result"
    }
   ],
   "source": [
    "x_train.head()"
   ]
  },
  {
   "cell_type": "code",
   "execution_count": 190,
   "id": "8d99b10e",
   "metadata": {},
   "outputs": [
    {
     "data": {
      "text/plain": [
       "array([1, 0, 0, ..., 0, 1, 1])"
      ]
     },
     "execution_count": 190,
     "metadata": {},
     "output_type": "execute_result"
    }
   ],
   "source": [
    "# Define the logistic regression model\n",
    "logit = LogisticRegression(C=1, random_state=123)\n",
    "\n",
    "#  fit the model on train data\n",
    "logit.fit(x_train, y_train)\n",
    "\n",
    "# now use the model to make predictions\n",
    "y_pred3 = logit.predict(x_train)\n",
    "\n",
    "#take a look at predictions\n",
    "y_pred3"
   ]
  },
  {
   "cell_type": "code",
   "execution_count": 191,
   "id": "3332c8de",
   "metadata": {},
   "outputs": [
    {
     "data": {
      "text/plain": [
       "array([[0.38551997, 0.61448003],\n",
       "       [0.75950838, 0.24049162],\n",
       "       [0.99386764, 0.00613236],\n",
       "       [0.98370599, 0.01629401],\n",
       "       [0.86793366, 0.13206634],\n",
       "       [0.99383965, 0.00616035],\n",
       "       [0.9647753 , 0.0352247 ],\n",
       "       [0.80795553, 0.19204447],\n",
       "       [0.60249028, 0.39750972],\n",
       "       [0.31130311, 0.68869689]])"
      ]
     },
     "execution_count": 191,
     "metadata": {},
     "output_type": "execute_result"
    }
   ],
   "source": [
    "# look at probability of being in certain class for each observation\n",
    "logit.predict_proba(x_train)[:10]"
   ]
  },
  {
   "cell_type": "code",
   "execution_count": 192,
   "id": "b6f7bc2e",
   "metadata": {},
   "outputs": [
    {
     "data": {
      "text/plain": [
       "array([0, 1])"
      ]
     },
     "execution_count": 192,
     "metadata": {},
     "output_type": "execute_result"
    }
   ],
   "source": [
    "# look at classes attribute\n",
    "logit.classes_"
   ]
  },
  {
   "cell_type": "code",
   "execution_count": 193,
   "id": "dae065e6",
   "metadata": {},
   "outputs": [
    {
     "data": {
      "text/html": [
       "<div>\n",
       "<style scoped>\n",
       "    .dataframe tbody tr th:only-of-type {\n",
       "        vertical-align: middle;\n",
       "    }\n",
       "\n",
       "    .dataframe tbody tr th {\n",
       "        vertical-align: top;\n",
       "    }\n",
       "\n",
       "    .dataframe thead th {\n",
       "        text-align: right;\n",
       "    }\n",
       "</style>\n",
       "<table border=\"1\" class=\"dataframe\">\n",
       "  <thead>\n",
       "    <tr style=\"text-align: right;\">\n",
       "      <th></th>\n",
       "      <th>non-churn</th>\n",
       "      <th>churn</th>\n",
       "    </tr>\n",
       "  </thead>\n",
       "  <tbody>\n",
       "    <tr>\n",
       "      <th>0</th>\n",
       "      <td>0.385520</td>\n",
       "      <td>0.614480</td>\n",
       "    </tr>\n",
       "    <tr>\n",
       "      <th>1</th>\n",
       "      <td>0.759508</td>\n",
       "      <td>0.240492</td>\n",
       "    </tr>\n",
       "    <tr>\n",
       "      <th>2</th>\n",
       "      <td>0.993868</td>\n",
       "      <td>0.006132</td>\n",
       "    </tr>\n",
       "    <tr>\n",
       "      <th>3</th>\n",
       "      <td>0.983706</td>\n",
       "      <td>0.016294</td>\n",
       "    </tr>\n",
       "    <tr>\n",
       "      <th>4</th>\n",
       "      <td>0.867934</td>\n",
       "      <td>0.132066</td>\n",
       "    </tr>\n",
       "  </tbody>\n",
       "</table>\n",
       "</div>"
      ],
      "text/plain": [
       "   non-churn     churn\n",
       "0   0.385520  0.614480\n",
       "1   0.759508  0.240492\n",
       "2   0.993868  0.006132\n",
       "3   0.983706  0.016294\n",
       "4   0.867934  0.132066"
      ]
     },
     "execution_count": 193,
     "metadata": {},
     "output_type": "execute_result"
    }
   ],
   "source": [
    "# View raw probabilities (output from the model)\n",
    "\n",
    "y_pred_proba3 = logit.predict_proba(x_train)\n",
    "y_pred_proba3 = pd.DataFrame(y_pred_proba3, columns = ['non-churn', 'churn'])\n",
    "y_pred_proba3.head()"
   ]
  },
  {
   "cell_type": "code",
   "execution_count": 194,
   "id": "d6c8c80d",
   "metadata": {},
   "outputs": [
    {
     "name": "stdout",
     "output_type": "stream",
     "text": [
      "              precision    recall  f1-score   support\n",
      "\n",
      "           0       0.83      0.90      0.86      3304\n",
      "           1       0.64      0.48      0.55      1196\n",
      "\n",
      "    accuracy                           0.79      4500\n",
      "   macro avg       0.73      0.69      0.71      4500\n",
      "weighted avg       0.78      0.79      0.78      4500\n",
      "\n"
     ]
    }
   ],
   "source": [
    "# classification report\n",
    "print(classification_report(y_train, y_pred3))"
   ]
  },
  {
   "cell_type": "code",
   "execution_count": 196,
   "id": "f97ea27c",
   "metadata": {},
   "outputs": [
    {
     "name": "stdout",
     "output_type": "stream",
     "text": [
      "Accuracy of Logistic Regression (c=1) with all 6 features on train set: 78.96%\n"
     ]
    }
   ],
   "source": [
    "print('Accuracy of Logistic Regression (c=1) with all 6 features on train set: {:.2%}'\n",
    "     .format(logit.score(x_train, y_train)))"
   ]
  },
  {
   "cell_type": "code",
   "execution_count": null,
   "id": "783ba84b",
   "metadata": {},
   "outputs": [],
   "source": [
    "# monthly charges, providers, tenure, addtional services, partners and dependents' number, contracts type"
   ]
  },
  {
   "cell_type": "code",
   "execution_count": null,
   "id": "594b75e5",
   "metadata": {},
   "outputs": [],
   "source": [
    "[['monthly_charges', 'internet_service_type_Fiber optic','internet_service_type_None', \n",
    "                 'contract_type_One year', 'contract_type_Two year', 'tenure', 'additional_services',\n",
    "                 'number_relationships']]"
   ]
  },
  {
   "cell_type": "markdown",
   "id": "113eb0a2",
   "metadata": {},
   "source": [
    "### use 4 features: monthly charge, contract type, tenure, additional services"
   ]
  },
  {
   "cell_type": "code",
   "execution_count": 382,
   "id": "6ce84214",
   "metadata": {},
   "outputs": [],
   "source": [
    "x_train1 = train[['monthly_charges','contract_type_One year', 'contract_type_Two year', 'tenure', 'additional_services']]\n",
    "y_train1 = train.churn_encoded\n",
    "\n",
    "x_validate1 = validate[['monthly_charges','contract_type_One year', 'contract_type_Two year', 'tenure', 'additional_services']]\n",
    "y_validate1 = validate.churn_encoded\n",
    "\n",
    "x_test1 = test[['monthly_charges','contract_type_One year', 'contract_type_Two year', 'tenure', 'additional_services']]\n",
    "y_test1 = test.churn_encoded"
   ]
  },
  {
   "cell_type": "code",
   "execution_count": 329,
   "id": "7c8997d7",
   "metadata": {},
   "outputs": [
    {
     "name": "stdout",
     "output_type": "stream",
     "text": [
      "              precision    recall  f1-score   support\n",
      "\n",
      "           0       0.83      0.90      0.87      3304\n",
      "           1       0.65      0.49      0.56      1196\n",
      "\n",
      "    accuracy                           0.79      4500\n",
      "   macro avg       0.74      0.70      0.71      4500\n",
      "weighted avg       0.78      0.79      0.79      4500\n",
      "\n"
     ]
    }
   ],
   "source": [
    "logit1 = LogisticRegression(C=1, random_state=123)\n",
    "\n",
    "logit1.fit(x_train1, y_train1)\n",
    "\n",
    "y_pred1 = logit1.predict(x_train1)\n",
    "\n",
    "print(classification_report(y_train1, y_pred1))"
   ]
  },
  {
   "cell_type": "code",
   "execution_count": 330,
   "id": "139567d2",
   "metadata": {},
   "outputs": [
    {
     "name": "stdout",
     "output_type": "stream",
     "text": [
      "Accuracy of Logistic Regression (c=1) with 4 features on train set: 79.49%\n"
     ]
    }
   ],
   "source": [
    "print('Accuracy of Logistic Regression (c=1) with 4 features on train set: {:.2%}'\n",
    "     .format(logit1.score(x_train1, y_train1)))"
   ]
  },
  {
   "cell_type": "code",
   "execution_count": 365,
   "id": "821e297c",
   "metadata": {},
   "outputs": [
    {
     "name": "stdout",
     "output_type": "stream",
     "text": [
      "              precision    recall  f1-score   support\n",
      "\n",
      "           0       0.81      0.94      0.87      3304\n",
      "           1       0.71      0.37      0.49      1196\n",
      "\n",
      "    accuracy                           0.79      4500\n",
      "   macro avg       0.76      0.66      0.68      4500\n",
      "weighted avg       0.78      0.79      0.77      4500\n",
      "\n"
     ]
    }
   ],
   "source": [
    "# use random forest with 4 features\n",
    "rf1 = RandomForestClassifier(max_depth=3, \n",
    "                            random_state=123)\n",
    "rf1.fit(x_train1, y_train1)\n",
    "y_pred4 = rf1.predict(x_train1)\n",
    "print(classification_report(y_train1, y_pred4))"
   ]
  },
  {
   "cell_type": "code",
   "execution_count": 334,
   "id": "913e8579",
   "metadata": {},
   "outputs": [
    {
     "name": "stdout",
     "output_type": "stream",
     "text": [
      "Accuracy of random forest classifier on train set: 79.18%\n"
     ]
    }
   ],
   "source": [
    "print('Accuracy of random forest classifier on train set: {:.2%}'\n",
    "     .format(rf1.score(x_train1, y_train1)))"
   ]
  },
  {
   "cell_type": "code",
   "execution_count": 336,
   "id": "41502e3b",
   "metadata": {},
   "outputs": [
    {
     "name": "stdout",
     "output_type": "stream",
     "text": [
      "              precision    recall  f1-score   support\n",
      "\n",
      "           0       0.83      0.94      0.88      3304\n",
      "           1       0.74      0.47      0.58      1196\n",
      "\n",
      "    accuracy                           0.82      4500\n",
      "   macro avg       0.78      0.71      0.73      4500\n",
      "weighted avg       0.81      0.82      0.80      4500\n",
      "\n"
     ]
    }
   ],
   "source": [
    "# use KNN with 4 features\n",
    "knn1 = KNeighborsClassifier(n_neighbors=10, weights='uniform')\n",
    "knn1.fit(x_train1, y_train1)\n",
    "y_pred5 = knn1.predict(x_train1)\n",
    "print(classification_report(y_train1, y_pred5))"
   ]
  },
  {
   "cell_type": "code",
   "execution_count": 337,
   "id": "78644195",
   "metadata": {},
   "outputs": [
    {
     "name": "stdout",
     "output_type": "stream",
     "text": [
      "Accuracy of KNN(k=1) classifier on training set: 81.51%\n"
     ]
    }
   ],
   "source": [
    "print('Accuracy of KNN(k=1) classifier on training set: {:.2%}'\n",
    "     .format(knn.score(x_train1, y_train1)))"
   ]
  },
  {
   "cell_type": "markdown",
   "id": "de74a0de",
   "metadata": {},
   "source": [
    "### with monthly charge, contract type, tenure, additional services"
   ]
  },
  {
   "cell_type": "code",
   "execution_count": 477,
   "id": "f212be78",
   "metadata": {},
   "outputs": [
    {
     "name": "stdout",
     "output_type": "stream",
     "text": [
      "Baseline accuracy on train set: 73.42%\n",
      "Accuracy of random forest classifier on train set: 79.18%\n",
      "Accuracy of KNN(k=1) classifier on training set: 81.51%\n",
      "Accuracy of Logistic Regression (c=1) with 4 features on train set: 79.49%\n",
      "Accuracy of decision tree classifier on 4 train1 set: 80.49%\n"
     ]
    }
   ],
   "source": [
    "# 4 on the train set\n",
    "\n",
    "print(f'Baseline accuracy on train set: {baseline_churn_accuracy:.2%}')\n",
    "print('Accuracy of random forest classifier on train set: {:.2%}'\n",
    "     .format(rf1.score(x_train1, y_train1)))\n",
    "print('Accuracy of KNN(k=1) classifier on training set: {:.2%}'\n",
    "     .format(knn1.score(x_train1, y_train1)))\n",
    "print('Accuracy of Logistic Regression (c=1) with 4 features on train set: {:.2%}'\n",
    "     .format(logit1.score(x_train1, y_train1)))\n",
    "print('Accuracy of decision tree classifier on 4 train1 set: {:.2%}'\n",
    "     .format(tree1.score(x_train1, y_train1)))"
   ]
  },
  {
   "cell_type": "markdown",
   "id": "431b9204",
   "metadata": {},
   "source": [
    "### with monthly charge, contract type, tenure, additional services, providers, partners and dependents"
   ]
  },
  {
   "cell_type": "code",
   "execution_count": 456,
   "id": "0da81a3a",
   "metadata": {},
   "outputs": [
    {
     "name": "stdout",
     "output_type": "stream",
     "text": [
      "Baseline accuracy on train set: 73.42%\n",
      "Accuracy of random forest classifier on train set: 79.42%\n",
      "Accuracy of KNN(k=10) classifier on training set: 80.69%\n",
      "Accuracy of Logistic Regression (c=1) with all 6 features on train set: 78.96%\n",
      "Accuracy of decision tree classifier on 6 train set: 80.18%\n"
     ]
    }
   ],
   "source": [
    "# 6 on the train set\n",
    "\n",
    "print(f'Baseline accuracy on train set: {baseline_churn_accuracy:.2%}')\n",
    "print('Accuracy of random forest classifier on train set: {:.2%}'\n",
    "     .format(rf.score(x_train, y_train)))\n",
    "print('Accuracy of KNN(k=10) classifier on train set: {:.2%}'\n",
    "     .format(knn.score(x_train, y_train)))\n",
    "print('Accuracy of Logistic Regression (c=1) with all 6 features on train set: {:.2%}'\n",
    "     .format(logit.score(x_train, y_train)))\n",
    "print('Accuracy of decision tree classifier on 6 train set: {:.2%}'\n",
    "     .format(tree.score(x_train, y_train)))"
   ]
  },
  {
   "cell_type": "markdown",
   "id": "f0a99eeb",
   "metadata": {},
   "source": [
    "## only have 4 features have more accuracy, so we use thia on the validate set"
   ]
  },
  {
   "cell_type": "code",
   "execution_count": 455,
   "id": "1a23b375",
   "metadata": {},
   "outputs": [
    {
     "name": "stdout",
     "output_type": "stream",
     "text": [
      "Accuracy of random forest classifier on train set: 77.51%\n",
      "Accuracy of KNN(k=1) classifier on training set: 76.71%\n",
      "Accuracy of Logistic Regression (c=1) with 4 features on train set: 77.60%\n",
      "Accuracy of decision tree classifier on 4 train1 set: 77.33%\n"
     ]
    }
   ],
   "source": [
    "print('Accuracy of random forest classifier on train set: {:.2%}'\n",
    "     .format(rf1.score(x_validate1, y_validate1)))\n",
    "print('Accuracy of KNN(k=1) classifier on training set: {:.2%}'\n",
    "     .format(knn1.score(x_validate1, y_validate1)))\n",
    "print('Accuracy of Logistic Regression (c=1) with 4 features on train set: {:.2%}'\n",
    "     .format(logit1.score(x_validate1, y_validate1)))\n",
    "print('Accuracy of decision tree classifier on 4 train1 set: {:.2%}'\n",
    "     .format(tree1.score(x_validate1, y_validate1)))"
   ]
  },
  {
   "cell_type": "markdown",
   "id": "7f3c8b83",
   "metadata": {},
   "source": [
    "# Logostoc regression model with features of monthly charge, contract type, tenure, additional services has higher accuracy"
   ]
  },
  {
   "cell_type": "code",
   "execution_count": 452,
   "id": "c0889f56",
   "metadata": {},
   "outputs": [
    {
     "name": "stdout",
     "output_type": "stream",
     "text": [
      "Accuracy of Logistic Regression (c=1) with 4 features on train set: 79.67%\n"
     ]
    }
   ],
   "source": [
    "# test on the best\n",
    "\n",
    "print('Accuracy of Logistic Regression (c=1) with 4 features on train set: {:.2%}'\n",
    "     .format(logit1.score(x_test1, y_test1)))"
   ]
  },
  {
   "cell_type": "code",
   "execution_count": 458,
   "id": "7985fad3",
   "metadata": {},
   "outputs": [
    {
     "name": "stdout",
     "output_type": "stream",
     "text": [
      "Accuracy of random forest classifier on test set: 79.25%\n",
      "Accuracy of KNN(k=1) classifier on test set: 79.67%\n",
      "Accuracy of Logistic Regression (c=1) with 4 features on test set: 79.67%\n",
      "Accuracy of decision tree classifier on 4 test set: 79.82%\n"
     ]
    }
   ],
   "source": [
    "# test on all\n",
    "print('Accuracy of random forest classifier on test set: {:.2%}'\n",
    "     .format(rf1.score(x_test1, y_test1)))\n",
    "print('Accuracy of KNN(k=1) classifier on test set: {:.2%}'\n",
    "     .format(knn1.score(x_test1, y_test1)))\n",
    "print('Accuracy of Logistic Regression (c=1) with 4 features on test set: {:.2%}'\n",
    "     .format(logit1.score(x_test1, y_test1)))\n",
    "print('Accuracy of decision tree classifier on 4 test set: {:.2%}'\n",
    "     .format(tree1.score(x_test1, y_test1)))"
   ]
  },
  {
   "cell_type": "code",
   "execution_count": 454,
   "id": "e65fcf84",
   "metadata": {},
   "outputs": [
    {
     "name": "stdout",
     "output_type": "stream",
     "text": [
      "Accuracy of Logistic Regression (c=1) with 4 features on train set: 79.49%\n",
      "Accuracy of Logistic Regression (c=1) with 4 features on train set: 77.60%\n",
      "Accuracy of Logistic Regression (c=1) with 4 features on train set: 79.67%\n"
     ]
    }
   ],
   "source": [
    "# best model\n",
    "print('Accuracy of Logistic Regression (c=1) with 4 features on train set: {:.2%}'\n",
    "     .format(logit1.score(x_train1, y_train1)))\n",
    "print('Accuracy of Logistic Regression (c=1) with 4 features on validate set: {:.2%}'\n",
    "     .format(logit1.score(x_validate1, y_validate1)))\n",
    "print('Accuracy of Logistic Regression (c=1) with 4 features on test set: {:.2%}'\n",
    "     .format(logit1.score(x_test1, y_test1)))"
   ]
  },
  {
   "cell_type": "code",
   "execution_count": null,
   "id": "5d542296",
   "metadata": {},
   "outputs": [],
   "source": []
  },
  {
   "cell_type": "code",
   "execution_count": null,
   "id": "f6e0e11b",
   "metadata": {},
   "outputs": [],
   "source": []
  },
  {
   "cell_type": "markdown",
   "id": "0168dbf9",
   "metadata": {},
   "source": [
    "## random tree"
   ]
  },
  {
   "cell_type": "code",
   "execution_count": 475,
   "id": "a2c35a11",
   "metadata": {},
   "outputs": [
    {
     "name": "stdout",
     "output_type": "stream",
     "text": [
      "              precision    recall  f1-score   support\n",
      "\n",
      "           0       0.83      0.92      0.87      3304\n",
      "           1       0.69      0.46      0.55      1196\n",
      "\n",
      "    accuracy                           0.80      4500\n",
      "   macro avg       0.76      0.69      0.71      4500\n",
      "weighted avg       0.79      0.80      0.79      4500\n",
      "\n"
     ]
    }
   ],
   "source": [
    "tree = DecisionTreeClassifier(max_depth=5, random_state=123)\n",
    "\n",
    "tree.fit(x_train, y_train)\n",
    "\n",
    "predictions = tree.predict(x_train)\n",
    "actual = y_train\n",
    "\n",
    "print(classification_report(actual, predictions))"
   ]
  },
  {
   "cell_type": "code",
   "execution_count": 476,
   "id": "92c9f68b",
   "metadata": {},
   "outputs": [
    {
     "name": "stdout",
     "output_type": "stream",
     "text": [
      "              precision    recall  f1-score   support\n",
      "\n",
      "           0       0.81      0.91      0.86       826\n",
      "           1       0.62      0.41      0.49       299\n",
      "\n",
      "    accuracy                           0.78      1125\n",
      "   macro avg       0.72      0.66      0.68      1125\n",
      "weighted avg       0.76      0.78      0.76      1125\n",
      "\n"
     ]
    }
   ],
   "source": [
    "predictions1 = tree.predict(x_validate)\n",
    "actual1 = y_validate\n",
    "\n",
    "print(classification_report(actual1, predictions1))"
   ]
  },
  {
   "cell_type": "code",
   "execution_count": 432,
   "id": "ff1531ef",
   "metadata": {},
   "outputs": [
    {
     "name": "stdout",
     "output_type": "stream",
     "text": [
      "Accuracy of decision tree classifier on train set: 80.18%\n",
      "Accuracy of decision tree classifier on train set: 77.69%\n"
     ]
    }
   ],
   "source": [
    "print('Accuracy of decision tree classifier on 6 train set: {:.2%}'\n",
    "     .format(tree.score(x_train, y_train)))\n",
    "print('Accuracy of decision tree classifier on 6 train set: {:.2%}'\n",
    "     .format(tree.score(x_validate, y_validate)))"
   ]
  },
  {
   "cell_type": "code",
   "execution_count": 436,
   "id": "8ed382c0",
   "metadata": {},
   "outputs": [
    {
     "name": "stdout",
     "output_type": "stream",
     "text": [
      "Accuracy of decision tree classifier on train1 set: 79.78%\n",
      "Accuracy of decision tree classifier on train1 set: 76.80%\n"
     ]
    }
   ],
   "source": [
    "print('Accuracy of decision tree classifier on 4 train1 set: {:.2%}'\n",
    "     .format(tree1.score(x_train1, y_train1)))\n",
    "print('Accuracy of decision tree classifier on 4 train1 set: {:.2%}'\n",
    "     .format(tree1.score(x_validate1, y_validate1)))"
   ]
  },
  {
   "cell_type": "code",
   "execution_count": 447,
   "id": "53624591",
   "metadata": {},
   "outputs": [
    {
     "name": "stdout",
     "output_type": "stream",
     "text": [
      "              precision    recall  f1-score   support\n",
      "\n",
      "           0       0.85      0.90      0.87      3304\n",
      "           1       0.66      0.55      0.60      1196\n",
      "\n",
      "    accuracy                           0.80      4500\n",
      "   macro avg       0.75      0.72      0.73      4500\n",
      "weighted avg       0.80      0.80      0.80      4500\n",
      "\n"
     ]
    }
   ],
   "source": [
    "tree1 = DecisionTreeClassifier(max_depth=6, random_state=123)\n",
    "\n",
    "tree1.fit(x_train1, y_train1)\n",
    "\n",
    "predictions2 = tree1.predict(x_train1)\n",
    "actual2 = y_train1\n",
    "\n",
    "print(classification_report(actual2, predictions2))"
   ]
  },
  {
   "cell_type": "code",
   "execution_count": 448,
   "id": "69cf16ba",
   "metadata": {},
   "outputs": [
    {
     "name": "stdout",
     "output_type": "stream",
     "text": [
      "              precision    recall  f1-score   support\n",
      "\n",
      "           0       0.82      0.88      0.85       826\n",
      "           1       0.59      0.46      0.52       299\n",
      "\n",
      "    accuracy                           0.77      1125\n",
      "   macro avg       0.71      0.67      0.69      1125\n",
      "weighted avg       0.76      0.77      0.76      1125\n",
      "\n"
     ]
    }
   ],
   "source": [
    "predictions3 = tree1.predict(x_validate1)\n",
    "actual3 = y_validate1\n",
    "\n",
    "print(classification_report(actual3, predictions3))"
   ]
  },
  {
   "cell_type": "code",
   "execution_count": null,
   "id": "a78e05d7",
   "metadata": {},
   "outputs": [],
   "source": [
    "# import my prediction to CSV file with my best model\n",
    "prediction = logit.predict(x_test)\n",
    "probability = logit.predict_proba(x_test)\n",
    "probability = pd.DataFrame(probability, columns = ['non-churn', 'churn'])"
   ]
  },
  {
   "cell_type": "code",
   "execution_count": null,
   "id": "b2c348d9",
   "metadata": {},
   "outputs": [],
   "source": [
    "prediction = pd.DataFrame(prediction)\n",
    "prediction"
   ]
  },
  {
   "cell_type": "code",
   "execution_count": null,
   "id": "5146dcf7",
   "metadata": {},
   "outputs": [],
   "source": [
    "id = test['customer_id']\n",
    "id = pd.DataFrame(id)\n",
    "id"
   ]
  },
  {
   "cell_type": "code",
   "execution_count": null,
   "id": "8dd0cc1f",
   "metadata": {},
   "outputs": [],
   "source": [
    "prediction.to_clipboard()"
   ]
  },
  {
   "cell_type": "code",
   "execution_count": null,
   "id": "7248bd27",
   "metadata": {},
   "outputs": [],
   "source": [
    "probability.to_clipboard()"
   ]
  },
  {
   "cell_type": "code",
   "execution_count": null,
   "id": "9b9e3f0e",
   "metadata": {},
   "outputs": [],
   "source": [
    "id.to_clipboard()"
   ]
  },
  {
   "cell_type": "code",
   "execution_count": null,
   "id": "7e636b07",
   "metadata": {},
   "outputs": [],
   "source": []
  }
 ],
 "metadata": {
  "kernelspec": {
   "display_name": "Python 3 (ipykernel)",
   "language": "python",
   "name": "python3"
  },
  "language_info": {
   "codemirror_mode": {
    "name": "ipython",
    "version": 3
   },
   "file_extension": ".py",
   "mimetype": "text/x-python",
   "name": "python",
   "nbconvert_exporter": "python",
   "pygments_lexer": "ipython3",
   "version": "3.9.12"
  }
 },
 "nbformat": 4,
 "nbformat_minor": 5
}
