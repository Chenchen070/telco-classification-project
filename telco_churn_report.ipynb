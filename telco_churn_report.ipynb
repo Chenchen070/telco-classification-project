{
 "cells": [
  {
   "cell_type": "markdown",
   "id": "25faabd5",
   "metadata": {},
   "source": [
    "# Telco-churn-classification-project"
   ]
  },
  {
   "cell_type": "markdown",
   "id": "55468f75",
   "metadata": {},
   "source": [
    "## Project Goals\n",
    "\n",
    "* The goal of this project is to identify the attributes of customers churn rate in Telco company in order to make recommendations of how to reduce churan rate for Telco company.\n"
   ]
  },
  {
   "cell_type": "markdown",
   "id": "de728817",
   "metadata": {},
   "source": [
    "## Initial Questions\n",
    "\n",
    "1. Is the churn rate effected by monthly charges?\n",
    "\n",
    "2. Is the churn rate effected by providers?\n",
    "\n",
    "3. Does churn rate related to tenure?\n",
    "\n",
    "4. Does the churn rate related to the additional services?\n",
    "\n",
    "5. Does the churn rate effeted by partner and dependent?\n",
    "\n",
    "6. Does the churn rate effeted by contract type?"
   ]
  },
  {
   "cell_type": "markdown",
   "id": "1af814e4",
   "metadata": {},
   "source": [
    "## Data Dictionary"
   ]
  },
  {
   "cell_type": "markdown",
   "id": "71bad84c",
   "metadata": {},
   "source": [
    "Variables are used in this analyst: \n",
    "\n",
    "* churn\n",
    "* monthly charges\n",
    "* tenure\n",
    "* contract types: month-to-month, one-year, two-year\n",
    "* additional services: online security, online backup, tech support, streaming tv, streaming movies\n",
    "* contract type: month-to-month, one-year, two-year\n",
    "* partners and dependents number"
   ]
  },
  {
   "cell_type": "markdown",
   "id": "702f7456",
   "metadata": {},
   "source": [
    "## Wrangle Titanic Data\n",
    "#### To acquire the telco churn data, I used the telco_churn in our mySQL server Then selected all columns from the customers table and left join internet_service_types, payment_types and contract_types tables.\n",
    "\n",
    "* select * from customers left join internet_service_types using(internet_service_type_id) left join payment_types using (payment_type_id) left join contract_types using (contract_type_id)"
   ]
  },
  {
   "cell_type": "code",
   "execution_count": 1,
   "id": "4876f444",
   "metadata": {},
   "outputs": [],
   "source": [
    "# Acquire telco_churn data from MySql database \n",
    "import acquire_telco\n",
    "\n",
    "# Make the commection to the database and run the query. Then we will get the data we need.\n",
    "df = acquire_telco.new_telco_data()"
   ]
  },
  {
   "cell_type": "markdown",
   "id": "31995487",
   "metadata": {},
   "source": [
    "#### To clean the data, I did the following:\n",
    "    \n",
    "1. Convert data type: convert total_charges from object to float.\n",
    "2. Drop rows: There are 11 missing data for total_charges, since it's a very small portion, so I just dropped those 11 rows.\n",
    "3. Drop coolumns: Since I already added internet_service_types, payment_types and contract_types into my data, so I dropped payment_type_id, internet_service_type_id znd contract_type_id columns.\n",
    "4. Encode binary categorical variables into numeric values: gender, partner, dependents, phone_service, paperless_billing, churn, online_security, online_backup.\n",
    "5. Get dummies for non-binary categorical variables: multiple_lines, online_security, online_backup, device_protection, tech_support, streaming_tv, streaming_movies, contract_type, internet_service_type, payment_type.\n",
    "6. Creat new columns: number_relationships, number_online_services, yearly_tenure, has_internet, additional_services"
   ]
  },
  {
   "cell_type": "code",
   "execution_count": 2,
   "id": "9010c408",
   "metadata": {},
   "outputs": [],
   "source": [
    "import pandas as pd\n",
    "import prepare_telco\n",
    "\n",
    "train, validate, test = prepare_telco.prep_telco_data(df)"
   ]
  },
  {
   "cell_type": "markdown",
   "id": "f687c35e",
   "metadata": {},
   "source": [
    "* Our data is now split into 3 samples so that we can use the train sample to explore, fit to models and evaluate without looking at new data.\n",
    "* The validate is used to verify that our models built are not overfit to the train dataset.\n",
    "* The test set is used to give an estimate of how this model will perform on data is has never seen in the future."
   ]
  },
  {
   "cell_type": "markdown",
   "id": "b7ff0604",
   "metadata": {},
   "source": [
    "## Set the Data Context"
   ]
  },
  {
   "cell_type": "code",
   "execution_count": 17,
   "id": "fa45570e",
   "metadata": {},
   "outputs": [
    {
     "data": {
      "text/plain": [
       "<AxesSubplot:xlabel='churn', ylabel='Count'>"
      ]
     },
     "execution_count": 17,
     "metadata": {},
     "output_type": "execute_result"
    },
    {
     "data": {
      "image/png": "[encoded data removed]",
      "text/plain": [
       "<Figure size 432x288 with 1 Axes>"
      ]
     },
     "metadata": {
      "needs_background": "light"
     },
     "output_type": "display_data"
    }
   ],
   "source": [
    "# Overall churn rate on train set\n",
    "import seaborn as sns\n",
    "import warnings\n",
    "warnings.filterwarnings(\"ignore\")\n",
    "\n",
    "sns.histplot(train.churn)"
   ]
  },
  {
   "cell_type": "code",
   "execution_count": 20,
   "id": "78489561",
   "metadata": {},
   "outputs": [
    {
     "data": {
      "text/plain": [
       "(4500, 55)"
      ]
     },
     "execution_count": 20,
     "metadata": {},
     "output_type": "execute_result"
    }
   ],
   "source": [
    "train.shape"
   ]
  },
  {
   "cell_type": "code",
   "execution_count": 5,
   "id": "9f0b7e92",
   "metadata": {},
   "outputs": [
    {
     "data": {
      "text/plain": [
       "No     3304\n",
       "Yes    1196\n",
       "Name: churn, dtype: int64"
      ]
     },
     "execution_count": 5,
     "metadata": {},
     "output_type": "execute_result"
    }
   ],
   "source": [
    "train.churn.value_counts()"
   ]
  },
  {
   "cell_type": "code",
   "execution_count": 12,
   "id": "6434a742",
   "metadata": {},
   "outputs": [
    {
     "data": {
      "text/plain": [
       "<AxesSubplot:xlabel='internet_service_type', ylabel='Count'>"
      ]
     },
     "execution_count": 12,
     "metadata": {},
     "output_type": "execute_result"
    },
    {
     "data": {
      "image/png": "[encoded data removed]",
      "text/plain": [
       "<Figure size 432x288 with 1 Axes>"
      ]
     },
     "metadata": {
      "needs_background": "light"
     },
     "output_type": "display_data"
    }
   ],
   "source": [
    "sns.histplot(data = train, x = 'internet_service_type', hue = 'churn')"
   ]
  },
  {
   "cell_type": "code",
   "execution_count": 18,
   "id": "bf8194d2",
   "metadata": {},
   "outputs": [
    {
     "data": {
      "text/html": [
       "<div>\n",
       "<style scoped>\n",
       "    .dataframe tbody tr th:only-of-type {\n",
       "        vertical-align: middle;\n",
       "    }\n",
       "\n",
       "    .dataframe tbody tr th {\n",
       "        vertical-align: top;\n",
       "    }\n",
       "\n",
       "    .dataframe thead th {\n",
       "        text-align: right;\n",
       "    }\n",
       "</style>\n",
       "<table border=\"1\" class=\"dataframe\">\n",
       "  <thead>\n",
       "    <tr style=\"text-align: right;\">\n",
       "      <th>churn</th>\n",
       "      <th>No</th>\n",
       "      <th>Yes</th>\n",
       "    </tr>\n",
       "    <tr>\n",
       "      <th>internet_service_type</th>\n",
       "      <th></th>\n",
       "      <th></th>\n",
       "    </tr>\n",
       "  </thead>\n",
       "  <tbody>\n",
       "    <tr>\n",
       "      <th>DSL</th>\n",
       "      <td>0.814286</td>\n",
       "      <td>0.185714</td>\n",
       "    </tr>\n",
       "    <tr>\n",
       "      <th>Fiber optic</th>\n",
       "      <td>0.575558</td>\n",
       "      <td>0.424442</td>\n",
       "    </tr>\n",
       "    <tr>\n",
       "      <th>None</th>\n",
       "      <td>0.926113</td>\n",
       "      <td>0.073887</td>\n",
       "    </tr>\n",
       "  </tbody>\n",
       "</table>\n",
       "</div>"
      ],
      "text/plain": [
       "churn                        No       Yes\n",
       "internet_service_type                    \n",
       "DSL                    0.814286  0.185714\n",
       "Fiber optic            0.575558  0.424442\n",
       "None                   0.926113  0.073887"
      ]
     },
     "execution_count": 18,
     "metadata": {},
     "output_type": "execute_result"
    }
   ],
   "source": [
    "pd.crosstab(train.internet_service_type, train.churn, normalize = 'index')"
   ]
  },
  {
   "cell_type": "code",
   "execution_count": 16,
   "id": "d9e1c211",
   "metadata": {},
   "outputs": [
    {
     "data": {
      "text/plain": [
       "<AxesSubplot:xlabel='contract_type', ylabel='Count'>"
      ]
     },
     "execution_count": 16,
     "metadata": {},
     "output_type": "execute_result"
    },
    {
     "data": {
      "image/png": "[encoded data removed]",
      "text/plain": [
       "<Figure size 432x288 with 1 Axes>"
      ]
     },
     "metadata": {
      "needs_background": "light"
     },
     "output_type": "display_data"
    }
   ],
   "source": [
    "sns.histplot(data = train, x = 'contract_type', hue = 'churn')"
   ]
  },
  {
   "cell_type": "code",
   "execution_count": 19,
   "id": "98d987c5",
   "metadata": {},
   "outputs": [
    {
     "data": {
      "text/html": [
       "<div>\n",
       "<style scoped>\n",
       "    .dataframe tbody tr th:only-of-type {\n",
       "        vertical-align: middle;\n",
       "    }\n",
       "\n",
       "    .dataframe tbody tr th {\n",
       "        vertical-align: top;\n",
       "    }\n",
       "\n",
       "    .dataframe thead th {\n",
       "        text-align: right;\n",
       "    }\n",
       "</style>\n",
       "<table border=\"1\" class=\"dataframe\">\n",
       "  <thead>\n",
       "    <tr style=\"text-align: right;\">\n",
       "      <th>churn</th>\n",
       "      <th>No</th>\n",
       "      <th>Yes</th>\n",
       "    </tr>\n",
       "    <tr>\n",
       "      <th>contract_type</th>\n",
       "      <th></th>\n",
       "      <th></th>\n",
       "    </tr>\n",
       "  </thead>\n",
       "  <tbody>\n",
       "    <tr>\n",
       "      <th>Month-to-month</th>\n",
       "      <td>0.575271</td>\n",
       "      <td>0.424729</td>\n",
       "    </tr>\n",
       "    <tr>\n",
       "      <th>One year</th>\n",
       "      <td>0.883442</td>\n",
       "      <td>0.116558</td>\n",
       "    </tr>\n",
       "    <tr>\n",
       "      <th>Two year</th>\n",
       "      <td>0.971586</td>\n",
       "      <td>0.028414</td>\n",
       "    </tr>\n",
       "  </tbody>\n",
       "</table>\n",
       "</div>"
      ],
      "text/plain": [
       "churn                 No       Yes\n",
       "contract_type                     \n",
       "Month-to-month  0.575271  0.424729\n",
       "One year        0.883442  0.116558\n",
       "Two year        0.971586  0.028414"
      ]
     },
     "execution_count": 19,
     "metadata": {},
     "output_type": "execute_result"
    }
   ],
   "source": [
    "pd.crosstab(train.contract_type, train.churn, normalize = 'index')"
   ]
  },
  {
   "cell_type": "markdown",
   "id": "33856af9",
   "metadata": {},
   "source": [
    "# Exploratory Analysis: Who was more likely to churn?"
   ]
  },
  {
   "cell_type": "markdown",
   "id": "a618c016",
   "metadata": {},
   "source": [
    "## Question 1. Is the churn rate effected by monthly charges?"
   ]
  },
  {
   "cell_type": "code",
   "execution_count": 21,
   "id": "483ace46",
   "metadata": {},
   "outputs": [
    {
     "data": {
      "text/plain": [
       "churn\n",
       "No     61.131613\n",
       "Yes    74.652048\n",
       "Name: monthly_charges, dtype: float64"
      ]
     },
     "execution_count": 21,
     "metadata": {},
     "output_type": "execute_result"
    }
   ],
   "source": [
    "# mean of monthly charges for customers who churn vs who don't churn?\n",
    "\n",
    "train.groupby('churn').monthly_charges.mean()"
   ]
  },
  {
   "cell_type": "code",
   "execution_count": 22,
   "id": "68029e84",
   "metadata": {},
   "outputs": [
    {
     "data": {
      "text/plain": [
       "<AxesSubplot:xlabel='churn', ylabel='monthly_charges'>"
      ]
     },
     "execution_count": 22,
     "metadata": {},
     "output_type": "execute_result"
    },
    {
     "data": {
      "image/png": "[encoded data removed]",
      "text/plain": [
       "<Figure size 432x288 with 1 Axes>"
      ]
     },
     "metadata": {
      "needs_background": "light"
     },
     "output_type": "display_data"
    }
   ],
   "source": [
    "sns.boxplot(data = train, y = 'monthly_charges', x = 'churn')"
   ]
  },
  {
   "cell_type": "code",
   "execution_count": 23,
   "id": "c57c41c1",
   "metadata": {},
   "outputs": [
    {
     "data": {
      "text/plain": [
       "Text(0.5, 1.0, 'Distribution of monthly charges by churn')"
      ]
     },
     "execution_count": 23,
     "metadata": {},
     "output_type": "execute_result"
    },
    {
     "data": {
      "image/png": "[encoded data removed]",
      "text/plain": [
       "<Figure size 432x288 with 1 Axes>"
      ]
     },
     "metadata": {
      "needs_background": "light"
     },
     "output_type": "display_data"
    }
   ],
   "source": [
    "ax = sns.kdeplot(train.monthly_charges[(train[\"churn\"] == 'No') ],\n",
    "                color=\"green\", shade = True)\n",
    "ax = sns.kdeplot(train.monthly_charges[(train[\"churn\"] == 'Yes') ],\n",
    "                ax =ax, color=\"grey\", shade= True)\n",
    "ax.legend([\"Not Churn\",\"Churn\"],loc='upper right')\n",
    "ax.set_ylabel('Density')\n",
    "ax.set_xlabel('Monthly Charges')\n",
    "ax.set_title('Distribution of monthly charges by churn')"
   ]
  },
  {
   "cell_type": "markdown",
   "id": "0d1cca08",
   "metadata": {},
   "source": [
    "### statistical test ---- t-test (2 sample 1-tailed test)\n",
    "\n",
    "I believe customers who churn are charged more (monthly average) than customers who don't churn.\n",
    "\n",
    "Is the mean of monthly charges of customers who churn significantly higher than the mean of those who don't churn?"
   ]
  },
  {
   "cell_type": "code",
   "execution_count": 24,
   "id": "338b3e55",
   "metadata": {},
   "outputs": [
    {
     "data": {
      "text/plain": [
       "<AxesSubplot:>"
      ]
     },
     "execution_count": 24,
     "metadata": {},
     "output_type": "execute_result"
    },
    {
     "data": {
      "image/png": "[encoded data removed]",
      "text/plain": [
       "<Figure size 432x288 with 1 Axes>"
      ]
     },
     "metadata": {
      "needs_background": "light"
     },
     "output_type": "display_data"
    }
   ],
   "source": [
    "# histogram of churned customers\n",
    "churn_sample = train[train.churn == 'Yes'].monthly_charges\n",
    "\n",
    "churn_sample.hist()"
   ]
  },
  {
   "cell_type": "code",
   "execution_count": 25,
   "id": "12ad5bd0",
   "metadata": {},
   "outputs": [
    {
     "data": {
      "text/plain": [
       "<AxesSubplot:>"
      ]
     },
     "execution_count": 25,
     "metadata": {},
     "output_type": "execute_result"
    },
    {
     "data": {
      "image/png": "[encoded data removed]",
      "text/plain": [
       "<Figure size 432x288 with 1 Axes>"
      ]
     },
     "metadata": {
      "needs_background": "light"
     },
     "output_type": "display_data"
    }
   ],
   "source": [
    "no_churn_sample = train[train.churn == 'No'].monthly_charges\n",
    "\n",
    "no_churn_sample.hist()"
   ]
  },
  {
   "cell_type": "markdown",
   "id": "7bcd7682",
   "metadata": {},
   "source": [
    "* Set Hypothesis\n",
    "\n",
    "H0: Mean of monthly charges of churned customers <= Mean of monthly charges of customers who stay.\n",
    "\n",
    "Ha: Mean of monthly charges of churned customers > Mean of monthly charges of customers who stay."
   ]
  },
  {
   "cell_type": "markdown",
   "id": "cb3b0335",
   "metadata": {},
   "source": [
    "* set alpha"
   ]
  },
  {
   "cell_type": "code",
   "execution_count": 28,
   "id": "927a6195",
   "metadata": {},
   "outputs": [],
   "source": [
    "alpha = 0.05"
   ]
  },
  {
   "cell_type": "markdown",
   "id": "b8fc6cd9",
   "metadata": {},
   "source": [
    "* Verify Assumptions\n",
    "\n",
    "1. Independent Samples. YES! no observations in the churn sample exist in the no-churn sample.\n",
    "\n",
    "2. Normal Distribution, or at least 30 observations and \"kinda\" normal. The more observations you have, the less \"normal\" it needs to appear. (CLT). YES! Plenty of observations\n",
    "\n",
    "3. Equal Variances (the scipy methods we will use has an argument to handle when variances aren't equal)."
   ]
  },
  {
   "cell_type": "code",
   "execution_count": 26,
   "id": "fa5cc0c4",
   "metadata": {},
   "outputs": [
    {
     "data": {
      "text/plain": [
       "(610.5202363859298, 973.6230640332021)"
      ]
     },
     "execution_count": 26,
     "metadata": {},
     "output_type": "execute_result"
    }
   ],
   "source": [
    "churn_sample.var(), no_churn_sample.var()"
   ]
  },
  {
   "cell_type": "code",
   "execution_count": 29,
   "id": "6901af4f",
   "metadata": {},
   "outputs": [
    {
     "data": {
      "text/plain": [
       "(15.067898021010361, 1.3606253087672313e-49, 0.05)"
      ]
     },
     "execution_count": 29,
     "metadata": {},
     "output_type": "execute_result"
    }
   ],
   "source": [
    "import scipy.stats as stats\n",
    "\n",
    "t, p = stats.ttest_ind(churn_sample,no_churn_sample, equal_var=False)\n",
    "\n",
    "t, p/2, alpha"
   ]
  },
  {
   "cell_type": "code",
   "execution_count": 30,
   "id": "7720519f",
   "metadata": {},
   "outputs": [
    {
     "name": "stdout",
     "output_type": "stream",
     "text": [
      "Reject null. The monthly charges for churn customers is higher than non-churn customers.\n"
     ]
    }
   ],
   "source": [
    "if (p/2 < alpha) & (t > 0):\n",
    "    print(\"Reject null. The monthly charges for churn customers is higher than non-churn customers.\")\n",
    "else:\n",
    "    print(\"Fail to reject null. The monthly charges for churn customers is equal or lower than non-churn customers.\")"
   ]
  },
  {
   "cell_type": "markdown",
   "id": "d3e6e8fd",
   "metadata": {},
   "source": [
    "## Answer 1"
   ]
  },
  {
   "cell_type": "markdown",
   "id": "89ff36e9",
   "metadata": {},
   "source": [
    "Customers who have higher monthly charges are more likely to churn."
   ]
  },
  {
   "cell_type": "markdown",
   "id": "074c293e",
   "metadata": {},
   "source": [
    "## Question 2. Does the churn rate related to tenure?"
   ]
  },
  {
   "cell_type": "code",
   "execution_count": 39,
   "id": "044d5818",
   "metadata": {},
   "outputs": [
    {
     "data": {
      "text/plain": [
       "<AxesSubplot:xlabel='churn', ylabel='tenure'>"
      ]
     },
     "execution_count": 39,
     "metadata": {},
     "output_type": "execute_result"
    },
    {
     "data": {
      "image/png": "[encoded data removed]",
      "text/plain": [
       "<Figure size 432x288 with 1 Axes>"
      ]
     },
     "metadata": {
      "needs_background": "light"
     },
     "output_type": "display_data"
    }
   ],
   "source": [
    "sns.boxplot(x = 'churn', y = 'tenure', data = train)"
   ]
  },
  {
   "cell_type": "code",
   "execution_count": 40,
   "id": "126bb827",
   "metadata": {},
   "outputs": [
    {
     "data": {
      "text/plain": [
       "churn\n",
       "No     37.689770\n",
       "Yes    18.061037\n",
       "Name: tenure, dtype: float64"
      ]
     },
     "execution_count": 40,
     "metadata": {},
     "output_type": "execute_result"
    }
   ],
   "source": [
    "train.groupby('churn').tenure.mean()"
   ]
  },
  {
   "cell_type": "markdown",
   "id": "e185022f",
   "metadata": {},
   "source": [
    "### T-test : 2 sample 1-teailed\n",
    "\n",
    "I believe that the mean of tenure for churn customers is lower than non-churn customers.\n",
    "\n",
    "* H0: Mean of tenure for churn customers >= non-churn customers.\n",
    "\n",
    "* H1: Mean of tenure for churn customers < non-churn customers."
   ]
  },
  {
   "cell_type": "code",
   "execution_count": 41,
   "id": "4b5cff55",
   "metadata": {},
   "outputs": [
    {
     "data": {
      "text/plain": [
       "<AxesSubplot:>"
      ]
     },
     "execution_count": 41,
     "metadata": {},
     "output_type": "execute_result"
    },
    {
     "data": {
      "image/png": "[encoded data removed]",
      "text/plain": [
       "<Figure size 432x288 with 1 Axes>"
      ]
     },
     "metadata": {
      "needs_background": "light"
     },
     "output_type": "display_data"
    }
   ],
   "source": [
    "# histogram of churned customers\n",
    "churn_sample_tenure = train[train.churn == 'Yes'].tenure\n",
    "\n",
    "churn_sample_tenure.hist()"
   ]
  },
  {
   "cell_type": "code",
   "execution_count": 42,
   "id": "84ea596c",
   "metadata": {},
   "outputs": [
    {
     "data": {
      "text/plain": [
       "<AxesSubplot:>"
      ]
     },
     "execution_count": 42,
     "metadata": {},
     "output_type": "execute_result"
    },
    {
     "data": {
      "image/png": "[encoded data removed]",
      "text/plain": [
       "<Figure size 432x288 with 1 Axes>"
      ]
     },
     "metadata": {
      "needs_background": "light"
     },
     "output_type": "display_data"
    }
   ],
   "source": [
    "no_churn_sample_tenure = train[train.churn == 'No'].tenure\n",
    "\n",
    "no_churn_sample_tenure.hist()"
   ]
  },
  {
   "cell_type": "code",
   "execution_count": 43,
   "id": "2ebba626",
   "metadata": {},
   "outputs": [],
   "source": [
    "alpha = 0.05"
   ]
  },
  {
   "cell_type": "code",
   "execution_count": 44,
   "id": "a8a691b4",
   "metadata": {},
   "outputs": [
    {
     "data": {
      "text/plain": [
       "(391.3711667902756, 583.9458111490103)"
      ]
     },
     "execution_count": 44,
     "metadata": {},
     "output_type": "execute_result"
    }
   ],
   "source": [
    "churn_sample_tenure.var(), no_churn_sample_tenure.var()"
   ]
  },
  {
   "cell_type": "code",
   "execution_count": 45,
   "id": "1cbd01d2",
   "metadata": {},
   "outputs": [
    {
     "data": {
      "text/plain": [
       "(-27.649600939497784, 8.442633398747043e-148, 0.05)"
      ]
     },
     "execution_count": 45,
     "metadata": {},
     "output_type": "execute_result"
    }
   ],
   "source": [
    "t1, p1 = stats.ttest_ind(churn_sample_tenure,no_churn_sample_tenure, equal_var=False)\n",
    "\n",
    "t1, p1/2, alpha"
   ]
  },
  {
   "cell_type": "code",
   "execution_count": 46,
   "id": "9017ea3e",
   "metadata": {},
   "outputs": [
    {
     "name": "stdout",
     "output_type": "stream",
     "text": [
      "Reject null. Mean of tenure for churn customers is less then non-churn customers.\n"
     ]
    }
   ],
   "source": [
    "if (p1/2 < alpha) & (t1 < 0):\n",
    "    print(\"Reject null. Mean of tenure for churn customers is less then non-churn customers.\")\n",
    "else:\n",
    "    print(\"Fail to reject null. \")"
   ]
  },
  {
   "cell_type": "markdown",
   "id": "7c425ab2",
   "metadata": {},
   "source": [
    "## Answer 2"
   ]
  },
  {
   "cell_type": "markdown",
   "id": "f7b1c7db",
   "metadata": {},
   "source": [
    "The churn customers have lower tenure then non-churn customers."
   ]
  },
  {
   "cell_type": "markdown",
   "id": "bde96696",
   "metadata": {},
   "source": [
    "## Question 3. Does the churn rate related to the additional services?\n",
    "\n",
    "Additional services: \n",
    "\n",
    "    online security, online backup, tech support, streaming tv, streaming movies"
   ]
  },
  {
   "cell_type": "code",
   "execution_count": 47,
   "id": "fa383f7f",
   "metadata": {},
   "outputs": [
    {
     "data": {
      "text/plain": [
       "<AxesSubplot:xlabel='additional_services', ylabel='count'>"
      ]
     },
     "execution_count": 47,
     "metadata": {},
     "output_type": "execute_result"
    },
    {
     "data": {
      "image/png": "[encoded data removed]",
      "text/plain": [
       "<Figure size 432x288 with 1 Axes>"
      ]
     },
     "metadata": {
      "needs_background": "light"
     },
     "output_type": "display_data"
    }
   ],
   "source": [
    "sns.countplot(x = 'additional_services', hue = 'churn', data = train)"
   ]
  },
  {
   "cell_type": "markdown",
   "id": "28d5d949",
   "metadata": {},
   "source": [
    "## Answer 3"
   ]
  },
  {
   "cell_type": "markdown",
   "id": "fc012d0d",
   "metadata": {},
   "source": [
    "The more additional services use, the lower the churn rate is."
   ]
  },
  {
   "cell_type": "markdown",
   "id": "2f25d3bf",
   "metadata": {},
   "source": [
    "## Question 4. Does the churn rate effeted by contract type?"
   ]
  },
  {
   "cell_type": "code",
   "execution_count": 52,
   "id": "9304b97a",
   "metadata": {},
   "outputs": [
    {
     "data": {
      "text/html": [
       "<div>\n",
       "<style scoped>\n",
       "    .dataframe tbody tr th:only-of-type {\n",
       "        vertical-align: middle;\n",
       "    }\n",
       "\n",
       "    .dataframe tbody tr th {\n",
       "        vertical-align: top;\n",
       "    }\n",
       "\n",
       "    .dataframe thead th {\n",
       "        text-align: right;\n",
       "    }\n",
       "</style>\n",
       "<table border=\"1\" class=\"dataframe\">\n",
       "  <thead>\n",
       "    <tr style=\"text-align: right;\">\n",
       "      <th>churn</th>\n",
       "      <th>No</th>\n",
       "      <th>Yes</th>\n",
       "    </tr>\n",
       "    <tr>\n",
       "      <th>contract_type</th>\n",
       "      <th></th>\n",
       "      <th></th>\n",
       "    </tr>\n",
       "  </thead>\n",
       "  <tbody>\n",
       "    <tr>\n",
       "      <th>Month-to-month</th>\n",
       "      <td>0.575271</td>\n",
       "      <td>0.424729</td>\n",
       "    </tr>\n",
       "    <tr>\n",
       "      <th>One year</th>\n",
       "      <td>0.883442</td>\n",
       "      <td>0.116558</td>\n",
       "    </tr>\n",
       "    <tr>\n",
       "      <th>Two year</th>\n",
       "      <td>0.971586</td>\n",
       "      <td>0.028414</td>\n",
       "    </tr>\n",
       "  </tbody>\n",
       "</table>\n",
       "</div>"
      ],
      "text/plain": [
       "churn                 No       Yes\n",
       "contract_type                     \n",
       "Month-to-month  0.575271  0.424729\n",
       "One year        0.883442  0.116558\n",
       "Two year        0.971586  0.028414"
      ]
     },
     "execution_count": 52,
     "metadata": {},
     "output_type": "execute_result"
    }
   ],
   "source": [
    "pd.crosstab(train.contract_type, train.churn, normalize = 'index')"
   ]
  },
  {
   "cell_type": "code",
   "execution_count": 53,
   "id": "55ece505",
   "metadata": {},
   "outputs": [
    {
     "data": {
      "text/plain": [
       "<AxesSubplot:xlabel='contract_type', ylabel='count'>"
      ]
     },
     "execution_count": 53,
     "metadata": {},
     "output_type": "execute_result"
    },
    {
     "data": {
      "image/png": "[encoded data removed]",
      "text/plain": [
       "<Figure size 432x288 with 1 Axes>"
      ]
     },
     "metadata": {
      "needs_background": "light"
     },
     "output_type": "display_data"
    }
   ],
   "source": [
    "sns.countplot(x = 'contract_type', hue = 'churn', data = train)"
   ]
  },
  {
   "cell_type": "markdown",
   "id": "54c44dab",
   "metadata": {},
   "source": [
    "## Answer 4"
   ]
  },
  {
   "cell_type": "markdown",
   "id": "156be261",
   "metadata": {},
   "source": [
    "Month-to-month contract type has higher churn rate."
   ]
  },
  {
   "cell_type": "markdown",
   "id": "6cd7a4e1",
   "metadata": {},
   "source": [
    "## Summary: \n",
    "\n",
    "1. Customers who have high monthly charges are more like to churn.\n",
    "2. The churn customers have less tenure.\n",
    "3. The more additional services use, the churn rate is lower.\n",
    "4. Month-to-month contract type has higher churn rate.\n",
    "\n",
    "#### Therefore, features I will use are: \n",
    "* monthly charges\n",
    "* tenure\n",
    "* addtional services\n",
    "* contracts type."
   ]
  },
  {
   "cell_type": "markdown",
   "id": "bdbdced5",
   "metadata": {},
   "source": [
    "# Predicting Churn"
   ]
  },
  {
   "cell_type": "markdown",
   "id": "a1c445df",
   "metadata": {},
   "source": [
    "Because churn is a boolean/yes or no value, we will use classification machine learning algorithms to fit to our training data and we will evaluate on validate. We will pick the best model using accuracy because the data is mostly balanced, and the risk of an event happening balances the risk of getting a prediction wrong."
   ]
  },
  {
   "cell_type": "markdown",
   "id": "1181a5cf",
   "metadata": {},
   "source": [
    "## Baseline"
   ]
  },
  {
   "cell_type": "markdown",
   "id": "7bcf60da",
   "metadata": {},
   "source": [
    "I will set a baseline prediction by predicting all passengers to not churn (churn == 0). I will evaluate the accuracy of that."
   ]
  },
  {
   "cell_type": "code",
   "execution_count": 57,
   "id": "faec1510",
   "metadata": {},
   "outputs": [
    {
     "name": "stdout",
     "output_type": "stream",
     "text": [
      "baseline accuracy on train set: 73.42%\n"
     ]
    }
   ],
   "source": [
    "# baseline\n",
    "train['baseline_churn'] = 0\n",
    "\n",
    "baseline_churn_accuracy = (train.churn_encoded == train.baseline_churn).mean()\n",
    "\n",
    "print(f'baseline accuracy on train set: {baseline_churn_accuracy:.2%}')"
   ]
  },
  {
   "cell_type": "markdown",
   "id": "7c710430",
   "metadata": {},
   "source": [
    "## Fit 3 models"
   ]
  },
  {
   "cell_type": "markdown",
   "id": "672ecb32",
   "metadata": {},
   "source": [
    "The top 3 models we built were the decision tree, KNN, and logistic regression. \n",
    "\n",
    "The models differed in the algorithms. \n",
    "\n",
    "The Logistic Regression performed the best at 79.67% accuracy as you will see."
   ]
  },
  {
   "cell_type": "code",
   "execution_count": 58,
   "id": "8e82796f",
   "metadata": {},
   "outputs": [],
   "source": [
    "x_train = train[['monthly_charges','contract_type_One year', 'contract_type_Two year', 'tenure', 'additional_services']]\n",
    "y_train = train.churn_encoded\n",
    "\n",
    "x_validate = validate[['monthly_charges','contract_type_One year', 'contract_type_Two year', 'tenure', 'additional_services']]\n",
    "y_validate = validate.churn_encoded\n",
    "\n",
    "x_test = test[['monthly_charges','contract_type_One year', 'contract_type_Two year', 'tenure', 'additional_services']]\n",
    "y_test = test.churn_encoded"
   ]
  },
  {
   "cell_type": "code",
   "execution_count": null,
   "id": "e59bb9dd",
   "metadata": {},
   "outputs": [],
   "source": [
    "from sklearn.tree import DecisionTreeClassifier, plot_tree, export_text\n",
    "from sklearn.metrics import classification_report, confusion_matrix, plot_confusion_matrix\n",
    "from sklearn.neighbors import KNeighborsClassifier\n",
    "from sklearn.linear_model import LogisticRegression"
   ]
  },
  {
   "cell_type": "markdown",
   "id": "b1488f6f",
   "metadata": {},
   "source": [
    "### Train"
   ]
  },
  {
   "cell_type": "code",
   "execution_count": 98,
   "id": "9c66759c",
   "metadata": {},
   "outputs": [
    {
     "name": "stdout",
     "output_type": "stream",
     "text": [
      "Accuracy of decision tree (max_depth=6) classifier on train set: 80.49%\n",
      "Accuracy of KNN(k=10) classifier on train set: 81.51%\n",
      "Accuracy of Logistic Regression (c=1) on train set: 79.49%\n"
     ]
    }
   ],
   "source": [
    "# Create the objects\n",
    "# decision tree\n",
    "tree = DecisionTreeClassifier(max_depth=6, random_state=123)\n",
    "\n",
    "# KNN\n",
    "knn = KNeighborsClassifier(n_neighbors=10)\n",
    "\n",
    "# logistic regression\n",
    "logit = LogisticRegression(C=1, random_state=123)\n",
    "\n",
    "# fit on train\n",
    "tree.fit(x_train, y_train)\n",
    "knn.fit(x_train, y_train)\n",
    "logit.fit(x_train, y_train)\n",
    "\n",
    "# predict on train\n",
    "y_pred_tree_train = tree.predict(x_train)\n",
    "y_pred_knn_train = knn.predict(x_train)\n",
    "y_pred_logistic_train = logit.predict(x_train)\n",
    "\n",
    "# evaluate on train\n",
    "print('Accuracy of decision tree (max_depth=6) classifier on train set: {:.2%}'\n",
    "     .format(tree.score(x_train, y_train)))\n",
    "print('Accuracy of KNN(k=10) classifier on train set: {:.2%}'\n",
    "     .format(knn.score(x_train, y_train)))\n",
    "print('Accuracy of Logistic Regression (c=1) on train set: {:.2%}'\n",
    "     .format(logit.score(x_train, y_train)))"
   ]
  },
  {
   "cell_type": "markdown",
   "id": "b9d4cf74",
   "metadata": {},
   "source": [
    "### Validate"
   ]
  },
  {
   "cell_type": "code",
   "execution_count": 94,
   "id": "3d8a4d9e",
   "metadata": {},
   "outputs": [
    {
     "name": "stdout",
     "output_type": "stream",
     "text": [
      "Accuracy of decision tree classifier on validate set: 77.33%\n",
      "Accuracy of KNN(k=10) classifier on validate set: 76.71%\n",
      "Accuracy of Logistic Regression (c=1) on validate set: 77.60%\n"
     ]
    }
   ],
   "source": [
    "# predict on validate\n",
    "y_pred_tree_validate = tree.predict(x_validate)\n",
    "y_pred_knn_validate = knn.predict(x_validate)\n",
    "y_pred_logistic_validate = logit.predict(x_validate)\n",
    "\n",
    "# evaluate on validate\n",
    "print('Accuracy of decision tree classifier on validate set: {:.2%}'\n",
    "     .format(tree.score(x_validate, y_validate)))\n",
    "print('Accuracy of KNN(k=10) classifier on validate set: {:.2%}'\n",
    "     .format(knn.score(x_validate, y_validate)))\n",
    "print('Accuracy of Logistic Regression (c=1) on validate set: {:.2%}'\n",
    "     .format(logit.score(x_validate, y_validate)))"
   ]
  },
  {
   "cell_type": "markdown",
   "id": "8c43b309",
   "metadata": {},
   "source": [
    "None of these model appear to be overfit. X model performed the best on the validate sample, therefore, I moved forward with that model."
   ]
  },
  {
   "cell_type": "markdown",
   "id": "2186ce05",
   "metadata": {},
   "source": [
    "### Test"
   ]
  },
  {
   "cell_type": "code",
   "execution_count": 100,
   "id": "ea49b932",
   "metadata": {},
   "outputs": [
    {
     "name": "stdout",
     "output_type": "stream",
     "text": [
      "Accuracy of Logistic Regression (c=1) on test set: 79.67%\n"
     ]
    }
   ],
   "source": [
    "# predict on test\n",
    "y_pred_test = logit.predict(x_test)\n",
    "y_pred_proba_test = logit.predict_proba(x_test)\n",
    "\n",
    "# evaluate on test\n",
    "print('Accuracy of Logistic Regression (c=1) on test set: {:.2%}'\n",
    "     .format(logit.score(x_test, y_test)))"
   ]
  },
  {
   "cell_type": "markdown",
   "id": "2a4bb6a0",
   "metadata": {},
   "source": [
    "I expect this model to perform with 79.67% accuracy in the future on data it has not seen, given no major changes in our data source."
   ]
  },
  {
   "cell_type": "markdown",
   "id": "6486b30a",
   "metadata": {},
   "source": [
    "# Conclusion"
   ]
  },
  {
   "cell_type": "markdown",
   "id": "71d15cea",
   "metadata": {},
   "source": [
    "## Summary"
   ]
  },
  {
   "cell_type": "code",
   "execution_count": null,
   "id": "40f284da",
   "metadata": {},
   "outputs": [],
   "source": []
  },
  {
   "cell_type": "markdown",
   "id": "15693d31",
   "metadata": {},
   "source": [
    "## Recommendations"
   ]
  },
  {
   "cell_type": "code",
   "execution_count": null,
   "id": "f08d0986",
   "metadata": {},
   "outputs": [],
   "source": []
  },
  {
   "cell_type": "markdown",
   "id": "b92b06b0",
   "metadata": {},
   "source": [
    "## Next Steps"
   ]
  },
  {
   "cell_type": "code",
   "execution_count": null,
   "id": "1595ac81",
   "metadata": {},
   "outputs": [],
   "source": []
  },
  {
   "cell_type": "code",
   "execution_count": null,
   "id": "f8c58ac9",
   "metadata": {},
   "outputs": [],
   "source": []
  },
  {
   "cell_type": "code",
   "execution_count": null,
   "id": "b39a17df",
   "metadata": {},
   "outputs": [],
   "source": []
  },
  {
   "cell_type": "code",
   "execution_count": null,
   "id": "08a19bca",
   "metadata": {},
   "outputs": [],
   "source": []
  },
  {
   "cell_type": "code",
   "execution_count": null,
   "id": "d15706cb",
   "metadata": {},
   "outputs": [],
   "source": []
  },
  {
   "cell_type": "code",
   "execution_count": null,
   "id": "d0ca07cd",
   "metadata": {},
   "outputs": [],
   "source": []
  },
  {
   "cell_type": "code",
   "execution_count": null,
   "id": "65db8609",
   "metadata": {},
   "outputs": [],
   "source": []
  },
  {
   "cell_type": "code",
   "execution_count": null,
   "id": "54950147",
   "metadata": {},
   "outputs": [],
   "source": []
  },
  {
   "cell_type": "code",
   "execution_count": null,
   "id": "d900de85",
   "metadata": {},
   "outputs": [],
   "source": []
  },
  {
   "cell_type": "code",
   "execution_count": null,
   "id": "b1827e2c",
   "metadata": {},
   "outputs": [],
   "source": []
  },
  {
   "cell_type": "code",
   "execution_count": null,
   "id": "e41556d3",
   "metadata": {},
   "outputs": [],
   "source": []
  }
 ],
 "metadata": {
  "kernelspec": {
   "display_name": "Python 3 (ipykernel)",
   "language": "python",
   "name": "python3"
  },
  "language_info": {
   "codemirror_mode": {
    "name": "ipython",
    "version": 3
   },
   "file_extension": ".py",
   "mimetype": "text/x-python",
   "name": "python",
   "nbconvert_exporter": "python",
   "pygments_lexer": "ipython3",
   "version": "3.9.12"
  }
 },
 "nbformat": 4,
 "nbformat_minor": 5
}
